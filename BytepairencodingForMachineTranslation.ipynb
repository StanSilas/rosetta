{
 "cells": [
  {
   "cell_type": "markdown",
   "metadata": {},
   "source": [
    "# Bytepairencoding seq2seq model in keras that translates english <-> german"
   ]
  },
  {
   "cell_type": "markdown",
   "metadata": {},
   "source": [
    "As a next step I take the model used for the [toy problem of adding/subtracting numbers](SimpleModelForAddingAndSubstraction.ipynb) and train it with english/german data for machine translation.\n",
    "\n",
    "As trainings set I use the [European Parliament Proceedings Parallel Corpus 1996-2011](http://statmt.org/europarl/) German-English corpus."
   ]
  },
  {
   "cell_type": "code",
   "execution_count": 1,
   "metadata": {
    "ExecuteTime": {
     "end_time": "2018-05-12T13:40:16.895396Z",
     "start_time": "2018-05-12T13:40:15.585050Z"
    }
   },
   "outputs": [
    {
     "name": "stderr",
     "output_type": "stream",
     "text": [
      "/home/janek/.local/share/virtualenvs/rosetta-WKmHhL03/lib/python3.6/site-packages/h5py/__init__.py:36: FutureWarning: Conversion of the second argument of issubdtype from `float` to `np.floating` is deprecated. In future, it will be treated as `np.float64 == np.dtype(float).type`.\n",
      "  from ._conv import register_converters as _register_converters\n",
      "Using TensorFlow backend.\n"
     ]
    }
   ],
   "source": [
    "# technical detail so that an instance (maybe running in a different window)\n",
    "# doesn't take all the GPU memory resulting in some strange error messages\n",
    "import tensorflow as tf\n",
    "from keras.backend.tensorflow_backend import set_session\n",
    "config = tf.ConfigProto()\n",
    "config.gpu_options.per_process_gpu_memory_fraction = 0.5\n",
    "set_session(tf.Session(config=config))"
   ]
  },
  {
   "cell_type": "code",
   "execution_count": 2,
   "metadata": {
    "ExecuteTime": {
     "end_time": "2018-05-12T13:40:17.257766Z",
     "start_time": "2018-05-12T13:40:16.896596Z"
    }
   },
   "outputs": [],
   "source": [
    "import math\n",
    "import matplotlib.pyplot as plt\n",
    "import os\n",
    "import re\n",
    "import tarfile\n",
    "\n",
    "from gensim.models import KeyedVectors\n",
    "import keras\n",
    "import keras.layers as L\n",
    "from keras.models import Model\n",
    "from keras.preprocessing.sequence import pad_sequences\n",
    "import numpy as np\n",
    "import pandas as pd\n",
    "import requests\n",
    "import sentencepiece as spm\n",
    "from sklearn.model_selection import train_test_split\n",
    "from tqdm import tqdm_notebook as tqdm\n",
    "\n",
    "# Fixing random state ensure reproducible results\n",
    "RANDOM_STATE=42\n",
    "np.random.seed(RANDOM_STATE)\n",
    "tf.set_random_seed(RANDOM_STATE)"
   ]
  },
  {
   "cell_type": "code",
   "execution_count": 34,
   "metadata": {
    "ExecuteTime": {
     "end_time": "2018-05-12T13:59:46.384436Z",
     "start_time": "2018-05-12T13:59:46.377829Z"
    }
   },
   "outputs": [],
   "source": [
    "# START = '^'\n",
    "# END = '\\n'\n",
    "\n",
    "MAX_INPUT_LENGTH = 25 #50\n",
    "MAX_TARGET_LENGTH = 35 #65\n",
    "LATENT_DIM = 512\n",
    "EMBEDDING_DIM = 100\n",
    "BPE_MERGE_OPERATIONS = 1000\n",
    "EPOCHS = 20\n",
    "BATCH_SIZE = 128\n",
    "DROPOUT = 0.5\n",
    "TEST_SIZE = 500\n",
    "EMBEDDING_TRAINABLE = False"
   ]
  },
  {
   "cell_type": "markdown",
   "metadata": {
    "ExecuteTime": {
     "end_time": "2018-05-08T13:03:31.674082Z",
     "start_time": "2018-05-08T13:03:31.670919Z"
    }
   },
   "source": [
    "## Download and explore data"
   ]
  },
  {
   "cell_type": "code",
   "execution_count": 4,
   "metadata": {
    "ExecuteTime": {
     "end_time": "2018-05-12T13:40:17.274661Z",
     "start_time": "2018-05-12T13:40:17.262712Z"
    }
   },
   "outputs": [
    {
     "name": "stdout",
     "output_type": "stream",
     "text": [
      "de-en.tgz already downloaded (188.6 MB)\n",
      "en.wiki.bpe.op1000.model already downloaded (0.2 MB)\n",
      "en.wiki.bpe.op1000.d100.w2v.bin.tar.gz already downloaded (0.7 MB)\n",
      "de.wiki.bpe.op1000.model already downloaded (0.2 MB)\n",
      "de.wiki.bpe.op1000.d100.w2v.bin.tar.gz already downloaded (0.5 MB)\n"
     ]
    }
   ],
   "source": [
    "def download_file(fname, url):\n",
    "    print(f\"Downloading {fname} from {url} ...\")\n",
    "    response = requests.get(url, stream=True)\n",
    "\n",
    "    total_size = int(response.headers.get('content-length', 0)); \n",
    "    block_size = 1024\n",
    "\n",
    "    download = tqdm(\n",
    "        response.iter_content(block_size),\n",
    "        total=math.ceil(total_size // block_size),\n",
    "        unit='KB',\n",
    "        unit_scale=True\n",
    "    )\n",
    "    with open(f\"{fname}\", \"wb\") as handle:\n",
    "        for data in download:\n",
    "            handle.write(data)\n",
    "\n",
    "PATH = 'data'\n",
    "INPUT_LANG = 'en'\n",
    "TARGET_LANG = 'de'\n",
    "LANGUAGES = [INPUT_LANG, TARGET_LANG]\n",
    "BPE_URL = {lang: f'http://cosyne.h-its.org/bpemb/data/{lang}/' for lang in LANGUAGES}\n",
    "BPE_MODEL_NAME = {lang: f'{lang}.wiki.bpe.op{BPE_MERGE_OPERATIONS}.model' for lang in LANGUAGES}\n",
    "BPE_WORD2VEC_NAME = {lang: f'{lang}.wiki.bpe.op{BPE_MERGE_OPERATIONS}.d{EMBEDDING_DIM}.w2v.bin' for lang in LANGUAGES}\n",
    "DOWNLOAD_FILES = {\n",
    "    'de-en.tgz': 'http://statmt.org/europarl/v7/de-en.tgz',\n",
    "    BPE_MODEL_NAME[INPUT_LANG]: f'{BPE_URL[INPUT_LANG]}/{BPE_MODEL_NAME[INPUT_LANG]}',\n",
    "    BPE_WORD2VEC_NAME[INPUT_LANG] + '.tar.gz': f'{BPE_URL[INPUT_LANG]}/{BPE_WORD2VEC_NAME[INPUT_LANG]}' + '.tar.gz',\n",
    "    BPE_MODEL_NAME[TARGET_LANG]: f'{BPE_URL[TARGET_LANG]}/{BPE_MODEL_NAME[TARGET_LANG]}',\n",
    "    BPE_WORD2VEC_NAME[TARGET_LANG] + '.tar.gz': f'{BPE_URL[TARGET_LANG]}/{BPE_WORD2VEC_NAME[TARGET_LANG]}' + '.tar.gz',\n",
    "}\n",
    "os.makedirs(PATH, exist_ok=True)\n",
    "\n",
    "for name, url in DOWNLOAD_FILES.items():\n",
    "    fname = os.path.join(PATH, name)\n",
    "    exists = os.path.exists(fname)\n",
    "    size = os.path.getsize(fname) if exists else -1\n",
    "    if exists and size > 0:\n",
    "        print(f'{name} already downloaded ({size / 2**20:3.1f} MB)')\n",
    "        continue\n",
    "    download_file(fname, url)\n",
    "    if (re.search(r'\\.(tgz|tar\\.gz)$', fname)):\n",
    "        tar = tarfile.open(fname, \"r:gz\")\n",
    "        tar.extractall(path=PATH)\n",
    "        tar.close()\n",
    "        print(f'Extracted {fname} ...')\n"
   ]
  },
  {
   "cell_type": "code",
   "execution_count": 5,
   "metadata": {
    "ExecuteTime": {
     "end_time": "2018-05-12T13:41:03.818398Z",
     "start_time": "2018-05-12T13:40:17.276221Z"
    }
   },
   "outputs": [],
   "source": [
    "# Following https://github.com/bheinzerling/bpemb/blob/master/preprocess_text.sh\n",
    "# (ignoring urls as there shouldn't be any in parliament discussions)\n",
    "def preprocess(line):\n",
    "    line = re.sub(r'\\d+', '0', line)\n",
    "    line = re.sub(r'\\s+', ' ', line)  # keep newlines, but strip together all other whitespaces\n",
    "    return line.lower().strip()\n",
    "\n",
    "def read_corpus_lines(language):\n",
    "    return [preprocess(line) for line in open(f'{PATH}/europarl-v7.de-en.{language}', 'r').readlines()]\n",
    "    \n",
    "pd.set_option('max_colwidth', 60)\n",
    "df = pd.DataFrame(data={\n",
    "    'input_texts': read_corpus_lines('en'),\n",
    "    'target_texts': read_corpus_lines('de'), \n",
    "})\n",
    "# df.target_texts = START + df.target_texts + END"
   ]
  },
  {
   "cell_type": "code",
   "execution_count": 6,
   "metadata": {
    "ExecuteTime": {
     "end_time": "2018-05-12T13:41:04.806600Z",
     "start_time": "2018-05-12T13:41:03.820960Z"
    }
   },
   "outputs": [
    {
     "data": {
      "text/plain": [
       "1920209"
      ]
     },
     "execution_count": 6,
     "metadata": {},
     "output_type": "execute_result"
    },
    {
     "data": {
      "text/html": [
       "<div>\n",
       "<style scoped>\n",
       "    .dataframe tbody tr th:only-of-type {\n",
       "        vertical-align: middle;\n",
       "    }\n",
       "\n",
       "    .dataframe tbody tr th {\n",
       "        vertical-align: top;\n",
       "    }\n",
       "\n",
       "    .dataframe thead th {\n",
       "        text-align: right;\n",
       "    }\n",
       "</style>\n",
       "<table border=\"1\" class=\"dataframe\">\n",
       "  <thead>\n",
       "    <tr style=\"text-align: right;\">\n",
       "      <th></th>\n",
       "      <th>input_texts</th>\n",
       "      <th>target_texts</th>\n",
       "      <th>input_length</th>\n",
       "      <th>target_length</th>\n",
       "    </tr>\n",
       "  </thead>\n",
       "  <tbody>\n",
       "    <tr>\n",
       "      <th>0</th>\n",
       "      <td>resumption of the session</td>\n",
       "      <td>wiederaufnahme der sitzungsperiode</td>\n",
       "      <td>25</td>\n",
       "      <td>34</td>\n",
       "    </tr>\n",
       "    <tr>\n",
       "      <th>1</th>\n",
       "      <td>i declare resumed the session of the european parliament...</td>\n",
       "      <td>ich erkläre die am freitag, dem 0. dezember unterbrochen...</td>\n",
       "      <td>203</td>\n",
       "      <td>217</td>\n",
       "    </tr>\n",
       "    <tr>\n",
       "      <th>2</th>\n",
       "      <td>although, as you will have seen, the dreaded 'millennium...</td>\n",
       "      <td>wie sie feststellen konnten, ist der gefürchtete \"millen...</td>\n",
       "      <td>191</td>\n",
       "      <td>185</td>\n",
       "    </tr>\n",
       "    <tr>\n",
       "      <th>3</th>\n",
       "      <td>you have requested a debate on this subject in the cours...</td>\n",
       "      <td>im parlament besteht der wunsch nach einer aussprache im...</td>\n",
       "      <td>105</td>\n",
       "      <td>110</td>\n",
       "    </tr>\n",
       "    <tr>\n",
       "      <th>4</th>\n",
       "      <td>in the meantime, i should like to observe a minute' s si...</td>\n",
       "      <td>heute möchte ich sie bitten - das ist auch der wunsch ei...</td>\n",
       "      <td>232</td>\n",
       "      <td>217</td>\n",
       "    </tr>\n",
       "  </tbody>\n",
       "</table>\n",
       "</div>"
      ],
      "text/plain": [
       "                                                   input_texts  \\\n",
       "0                                    resumption of the session   \n",
       "1  i declare resumed the session of the european parliament...   \n",
       "2  although, as you will have seen, the dreaded 'millennium...   \n",
       "3  you have requested a debate on this subject in the cours...   \n",
       "4  in the meantime, i should like to observe a minute' s si...   \n",
       "\n",
       "                                                  target_texts  input_length  \\\n",
       "0                           wiederaufnahme der sitzungsperiode            25   \n",
       "1  ich erkläre die am freitag, dem 0. dezember unterbrochen...           203   \n",
       "2  wie sie feststellen konnten, ist der gefürchtete \"millen...           191   \n",
       "3  im parlament besteht der wunsch nach einer aussprache im...           105   \n",
       "4  heute möchte ich sie bitten - das ist auch der wunsch ei...           232   \n",
       "\n",
       "   target_length  \n",
       "0             34  \n",
       "1            217  \n",
       "2            185  \n",
       "3            110  \n",
       "4            217  "
      ]
     },
     "execution_count": 6,
     "metadata": {},
     "output_type": "execute_result"
    }
   ],
   "source": [
    "len(df)\n",
    "df.target_texts = df.target_texts  # encode a start symbol (doesn't occur in texts)\n",
    "df['input_length'] = df.input_texts.apply(len)\n",
    "df['target_length'] = df.target_texts.apply(len)\n",
    "df.head()"
   ]
  },
  {
   "cell_type": "code",
   "execution_count": 7,
   "metadata": {
    "ExecuteTime": {
     "end_time": "2018-05-12T13:41:04.810196Z",
     "start_time": "2018-05-12T13:41:04.808179Z"
    }
   },
   "outputs": [],
   "source": [
    "# x = df.input_length\n",
    "# logbins = np.logspace(1,5,20)\n",
    "# plt.hist(x, bins=logbins)\n",
    "# plt.xscale('log')\n",
    "# plt.show();"
   ]
  },
  {
   "cell_type": "code",
   "execution_count": 22,
   "metadata": {
    "ExecuteTime": {
     "end_time": "2018-05-12T13:47:17.422009Z",
     "start_time": "2018-05-12T13:47:17.335276Z"
    }
   },
   "outputs": [
    {
     "data": {
      "text/plain": [
       "34392"
      ]
     },
     "execution_count": 22,
     "metadata": {},
     "output_type": "execute_result"
    }
   ],
   "source": [
    "non_empty = (df.input_length > 1) & (df.target_length > 1)  # there are empty phrases like '\\n' --> 'Frau Präsidentin\\n'\n",
    "short_inputs = (df.input_length < MAX_INPUT_LENGTH) & (df.target_length < MAX_TARGET_LENGTH)\n",
    "sum(non_empty & short_inputs)\n",
    "df = df[non_empty & short_inputs]"
   ]
  },
  {
   "cell_type": "code",
   "execution_count": 24,
   "metadata": {
    "ExecuteTime": {
     "end_time": "2018-05-12T13:50:19.589730Z",
     "start_time": "2018-05-12T13:50:19.551469Z"
    }
   },
   "outputs": [
    {
     "data": {
      "text/plain": [
       "True"
      ]
     },
     "execution_count": 24,
     "metadata": {},
     "output_type": "execute_result"
    },
    {
     "name": "stdout",
     "output_type": "stream",
     "text": [
      "['▁this', '▁is', '▁a', '▁t', 'est']\n"
     ]
    },
    {
     "data": {
      "text/plain": [
       "True"
      ]
     },
     "execution_count": 24,
     "metadata": {},
     "output_type": "execute_result"
    },
    {
     "name": "stdout",
     "output_type": "stream",
     "text": [
      "['▁das', '▁ist', '▁ein', '▁te', 'st']\n"
     ]
    }
   ],
   "source": [
    "input_pretrained_bpe = KeyedVectors.load_word2vec_format(os.path.join(PATH, BPE_WORD2VEC_NAME[INPUT_LANG]), binary=True)\n",
    "target_pretrained_bpe = KeyedVectors.load_word2vec_format(os.path.join(PATH, BPE_WORD2VEC_NAME[TARGET_LANG]), binary=True)\n",
    "sp_input = spm.SentencePieceProcessor()\n",
    "sp_input.Load(os.path.join(PATH, BPE_MODEL_NAME[INPUT_LANG]))\n",
    "subwords = sp_input.EncodeAsPieces(\"this is a test\")\n",
    "print(subwords)\n",
    "sp_target = spm.SentencePieceProcessor()\n",
    "sp_target.Load(os.path.join(PATH, BPE_MODEL_NAME[TARGET_LANG]))\n",
    "subwords = sp_target.EncodeAsPieces(\"das ist ein test\")\n",
    "print(subwords)"
   ]
  },
  {
   "cell_type": "code",
   "execution_count": 27,
   "metadata": {
    "ExecuteTime": {
     "end_time": "2018-05-12T13:55:36.574063Z",
     "start_time": "2018-05-12T13:55:35.736674Z"
    }
   },
   "outputs": [
    {
     "name": "stderr",
     "output_type": "stream",
     "text": [
      "/home/janek/.local/share/virtualenvs/rosetta-WKmHhL03/lib/python3.6/site-packages/ipykernel_launcher.py:4: DeprecationWarning: Call to deprecated `wv` (Attribute will be removed in 4.0.0, use self instead).\n",
      "  after removing the cwd from sys.path.\n",
      "/home/janek/.local/share/virtualenvs/rosetta-WKmHhL03/lib/python3.6/site-packages/ipykernel_launcher.py:11: DeprecationWarning: Call to deprecated `wv` (Attribute will be removed in 4.0.0, use self instead).\n",
      "  # This is added back by InteractiveShellApp.init_path()\n",
      "/home/janek/.local/share/virtualenvs/rosetta-WKmHhL03/lib/python3.6/site-packages/ipykernel_launcher.py:30: DeprecationWarning: Call to deprecated `wv` (Attribute will be removed in 4.0.0, use self instead).\n",
      "/home/janek/.local/share/virtualenvs/rosetta-WKmHhL03/lib/python3.6/site-packages/ipykernel_launcher.py:36: DeprecationWarning: Call to deprecated `wv` (Attribute will be removed in 4.0.0, use self instead).\n"
     ]
    }
   ],
   "source": [
    "input_wordvec_index = dict({\n",
    "    word: index \n",
    "    for index, word \n",
    "    in enumerate(['<pad>', '<s>', '</s>'] + input_pretrained_bpe.wv.index2word)  # haven't found start/stop tokens, so add them manually\n",
    "})\n",
    "input_unk_index = input_wordvec_index['<unk>']\n",
    "\n",
    "target_wordvec_index = dict({\n",
    "    word: index \n",
    "    for index, word \n",
    "    in enumerate(['<pad>', '<s>', '</s>'] + target_pretrained_bpe.wv.index2word)  # haven't found start/stop tokens, so add them manually\n",
    "})\n",
    "target_unk_index = target_wordvec_index['<unk>']\n",
    "\n",
    "def subword_indices(text, unk_index, sp, wordvec_index):\n",
    "    subwords = ['<s>'] + sp.EncodeAsPieces(text) + ['</s>']  # automatic add start/stop index\n",
    "    return [wordvec_index.get(subword, unk_index) for subword in subwords]\n",
    "\n",
    "def input_subword_indices(text):\n",
    "    return subword_indices(text, input_unk_index, sp_input, input_wordvec_index)\n",
    "\n",
    "def target_subword_indices(text):\n",
    "    return subword_indices(text, target_unk_index, sp_target, target_wordvec_index)\n",
    "\n",
    "FULL_EMBEDDING_DIM = EMBEDDING_DIM + 2\n",
    "input_embedding_matrix = np.zeros((len(input_wordvec_index), FULL_EMBEDDING_DIM))\n",
    "input_embedding_matrix[0, :] = 1e-6 * np.random.standard_normal(FULL_EMBEDDING_DIM)  # pad symbol as close to zero\n",
    "input_embedding_matrix[1, -1] = 1  # one hot encode start symbol\n",
    "input_embedding_matrix[2, -2] = 1  # one hot encode stop symbol\n",
    "input_embedding_matrix[3:, :-2] = input_pretrained_bpe.wv.vectors\n",
    "\n",
    "target_embedding_matrix = np.zeros((len(target_wordvec_index), FULL_EMBEDDING_DIM))\n",
    "target_embedding_matrix[0, :] = 1e-6 * np.random.standard_normal(FULL_EMBEDDING_DIM)  # pad symbol as close to zero\n",
    "target_embedding_matrix[1, -1] = 1  # one hot encode start symbol\n",
    "target_embedding_matrix[2, -2] = 1  # one hot encode stop symbol\n",
    "target_embedding_matrix[3:, :-2] = target_pretrained_bpe.wv.vectors\n",
    "\n",
    "df['input_sequences'] = df.input_texts.apply(input_subword_indices)\n",
    "df['target_sequences'] = df.target_texts.apply(target_subword_indices)"
   ]
  },
  {
   "cell_type": "code",
   "execution_count": 28,
   "metadata": {
    "ExecuteTime": {
     "end_time": "2018-05-12T13:56:38.170996Z",
     "start_time": "2018-05-12T13:56:38.163796Z"
    }
   },
   "outputs": [
    {
     "data": {
      "text/plain": [
       "array([[-1.39856757e-06,  5.62969237e-07, -6.50642569e-07,\n",
       "        -4.87125384e-07, -5.92393924e-07, -8.63990770e-07,\n",
       "         4.85216279e-08, -8.30950116e-07],\n",
       "       [ 0.00000000e+00,  0.00000000e+00,  0.00000000e+00,\n",
       "         0.00000000e+00,  0.00000000e+00,  0.00000000e+00,\n",
       "         0.00000000e+00,  1.00000000e+00],\n",
       "       [ 0.00000000e+00,  0.00000000e+00,  0.00000000e+00,\n",
       "         0.00000000e+00,  0.00000000e+00,  0.00000000e+00,\n",
       "         1.00000000e+00,  0.00000000e+00],\n",
       "       [-1.54319003e-01,  1.55878007e-01,  5.60858011e-01,\n",
       "        -1.23772003e-01,  1.91783994e-01,  3.10420003e-02,\n",
       "         0.00000000e+00,  0.00000000e+00]])"
      ]
     },
     "execution_count": 28,
     "metadata": {},
     "output_type": "execute_result"
    },
    {
     "data": {
      "text/plain": [
       "array([[ 4.13434903e-07,  1.87679581e-06, -7.73789199e-07,\n",
       "        -1.24465470e-06, -1.77872025e-06,  1.49604431e-06,\n",
       "         6.54365656e-07, -5.55846709e-08],\n",
       "       [ 0.00000000e+00,  0.00000000e+00,  0.00000000e+00,\n",
       "         0.00000000e+00,  0.00000000e+00,  0.00000000e+00,\n",
       "         0.00000000e+00,  1.00000000e+00],\n",
       "       [ 0.00000000e+00,  0.00000000e+00,  0.00000000e+00,\n",
       "         0.00000000e+00,  0.00000000e+00,  0.00000000e+00,\n",
       "         1.00000000e+00,  0.00000000e+00],\n",
       "       [-1.57903999e-01, -3.65200013e-01, -2.83556014e-01,\n",
       "        -8.73659998e-02,  5.86996019e-01, -2.23167002e-01,\n",
       "         0.00000000e+00,  0.00000000e+00]])"
      ]
     },
     "execution_count": 28,
     "metadata": {},
     "output_type": "execute_result"
    }
   ],
   "source": [
    "input_embedding_matrix[:4, -8:]\n",
    "target_embedding_matrix[:4, -8:]"
   ]
  },
  {
   "cell_type": "code",
   "execution_count": 12,
   "metadata": {
    "ExecuteTime": {
     "end_time": "2018-05-12T11:35:02.305893Z",
     "start_time": "2018-05-12T11:35:02.297709Z"
    }
   },
   "outputs": [],
   "source": [
    "# corpus = pd.concat([df.input_texts, df.target_texts])\n",
    "# corpus = df.target_texts"
   ]
  },
  {
   "cell_type": "code",
   "execution_count": 13,
   "metadata": {
    "ExecuteTime": {
     "end_time": "2018-05-12T11:35:02.666424Z",
     "start_time": "2018-05-12T11:35:02.307635Z"
    }
   },
   "outputs": [],
   "source": [
    "# tokenizer = keras.preprocessing.text.Tokenizer(num_words=100, filters=None, char_level=True, oov_token='~')\n",
    "# tokenizer.fit_on_texts(corpus)\n",
    "# # df['input_sequences'] = tokenizer.texts_to_sequences(df.input_texts)\n",
    "# df['target_sequences'] = tokenizer.texts_to_sequences(df.target_texts)"
   ]
  },
  {
   "cell_type": "code",
   "execution_count": 14,
   "metadata": {
    "ExecuteTime": {
     "end_time": "2018-05-12T11:35:02.675530Z",
     "start_time": "2018-05-12T11:35:02.668102Z"
    }
   },
   "outputs": [
    {
     "data": {
      "text/plain": [
       "[('e', 76780),\n",
       " (' ', 71364),\n",
       " ('s', 58492),\n",
       " ('i', 52225),\n",
       " ('n', 42885),\n",
       " ('a', 41066),\n",
       " ('r', 33748),\n",
       " ('\\n', 32815),\n",
       " ('^', 32815),\n",
       " ('t', 32215),\n",
       " ('h', 29135),\n",
       " ('l', 25430),\n",
       " ('d', 24860),\n",
       " ('c', 21765),\n",
       " ('u', 18556),\n",
       " ('.', 17914),\n",
       " ('g', 16435),\n",
       " ('o', 13455),\n",
       " ('b', 12769),\n",
       " ('m', 12093),\n",
       " ('f', 9579),\n",
       " ('w', 9553),\n",
       " ('k', 7724),\n",
       " ('p', 7211),\n",
       " ('(', 4541),\n",
       " (')', 4446),\n",
       " ('z', 4224),\n",
       " ('v', 4121),\n",
       " ('?', 3666),\n",
       " ('0', 2782),\n",
       " ('!', 2410),\n",
       " ('ä', 2187),\n",
       " ('ü', 2142),\n",
       " (',', 2072),\n",
       " ('-', 1600),\n",
       " (':', 1097),\n",
       " ('ö', 1084),\n",
       " ('ß', 865),\n",
       " ('j', 735),\n",
       " ('/', 698),\n",
       " ('y', 305),\n",
       " ('\"', 161),\n",
       " ('x', 104),\n",
       " ('–', 62),\n",
       " ('q', 56),\n",
       " (\"'\", 33),\n",
       " ('%', 32),\n",
       " ('é', 31),\n",
       " ('á', 22),\n",
       " ('í', 15),\n",
       " ('“', 12),\n",
       " ('è', 11),\n",
       " ('*', 9),\n",
       " ('°', 8),\n",
       " ('ã', 7),\n",
       " ('„', 6),\n",
       " (';', 6),\n",
       " ('æ', 5),\n",
       " ('ó', 5),\n",
       " ('š', 4),\n",
       " ('à', 4),\n",
       " ('ç', 3),\n",
       " ('ń', 3),\n",
       " ('č', 3),\n",
       " ('å', 3),\n",
       " ('’', 3),\n",
       " ('ò', 3),\n",
       " ('´', 2),\n",
       " ('ñ', 2),\n",
       " ('α', 2),\n",
       " ('π', 2),\n",
       " (']', 2),\n",
       " ('[', 2),\n",
       " ('ň', 2),\n",
       " ('¡', 2),\n",
       " ('<', 2),\n",
       " ('о', 2),\n",
       " ('д', 2),\n",
       " ('…', 2),\n",
       " ('ł', 2),\n",
       " ('ï', 2),\n",
       " ('ì', 1),\n",
       " ('ą', 1),\n",
       " ('ή', 1),\n",
       " ('χ', 1),\n",
       " ('ο', 1),\n",
       " ('ά', 1),\n",
       " ('τ', 1),\n",
       " ('κ', 1),\n",
       " ('ρ', 1),\n",
       " ('έ', 1),\n",
       " ('υ', 1),\n",
       " ('ž', 1),\n",
       " ('ǎ', 1),\n",
       " ('ő', 1),\n",
       " ('ý', 1),\n",
       " ('и', 1),\n",
       " ('л', 1),\n",
       " ('ш', 1),\n",
       " ('е', 1),\n",
       " ('р', 1),\n",
       " ('б', 1),\n",
       " ('ţ', 1),\n",
       " ('ę', 1),\n",
       " ('+', 1),\n",
       " ('û', 1)]"
      ]
     },
     "execution_count": 14,
     "metadata": {},
     "output_type": "execute_result"
    },
    {
     "data": {
      "text/plain": [
       "37"
      ]
     },
     "execution_count": 14,
     "metadata": {},
     "output_type": "execute_result"
    }
   ],
   "source": [
    "# list(reversed(sorted(tokenizer.word_counts.items(), key=lambda d: d[1])))\n",
    "# sum(1 for w, count in tokenizer.word_counts.items() if count > 1000)"
   ]
  },
  {
   "cell_type": "code",
   "execution_count": 39,
   "metadata": {
    "ExecuteTime": {
     "end_time": "2018-05-12T14:00:53.446119Z",
     "start_time": "2018-05-12T14:00:53.419507Z"
    }
   },
   "outputs": [],
   "source": [
    "max_len_input = df.input_sequences.apply(len).max()\n",
    "max_len_target = df.target_sequences.apply(len).max()\n",
    "nr_input_tokens = len(input_wordvec_index)  \n",
    "nr_target_tokens = len(target_wordvec_index)  #len(tokenizer.word_index) + 1  # add 0 padding not in word_index contained\n",
    "\n",
    "# one hot encoded y_t_output wouldn't fit into memory any longer\n",
    "# so need to train/validate on batches generated on the fly\n",
    "def create_batch_generator(samples_ids):\n",
    "    \n",
    "    def batch_generator():\n",
    "        nr_batches = np.ceil(len(samples_ids) / BATCH_SIZE)\n",
    "        while True:\n",
    "            shuffled_ids = np.random.permutation(samples_ids)\n",
    "            batch_splits = np.array_split(shuffled_ids, nr_batches)\n",
    "            for batch_ids in batch_splits:\n",
    "                batch_X = pad_sequences(df.iloc[batch_ids].input_sequences, padding='post', maxlen=max_len_input)\n",
    "                batch_y = pad_sequences(df.iloc[batch_ids].target_sequences, padding='post', maxlen=max_len_target)\n",
    "                batch_y_t_output = keras.utils.to_categorical(batch_y[:,1:], num_classes=nr_target_tokens)\n",
    "                batch_x_t_input = batch_y[:,:-1]\n",
    "                yield ([batch_X, batch_x_t_input], batch_y_t_output)\n",
    "    \n",
    "    return batch_generator()"
   ]
  },
  {
   "cell_type": "code",
   "execution_count": 40,
   "metadata": {
    "ExecuteTime": {
     "end_time": "2018-05-12T14:00:58.964585Z",
     "start_time": "2018-05-12T14:00:58.961059Z"
    }
   },
   "outputs": [],
   "source": [
    "train_ids, val_ids = train_test_split(np.arange(df.shape[0]), test_size=0.1)"
   ]
  },
  {
   "cell_type": "code",
   "execution_count": 41,
   "metadata": {
    "ExecuteTime": {
     "end_time": "2018-05-12T14:01:00.045624Z",
     "start_time": "2018-05-12T14:01:00.034811Z"
    }
   },
   "outputs": [
    {
     "data": {
      "text/plain": [
       "(1832, 1369)"
      ]
     },
     "execution_count": 41,
     "metadata": {},
     "output_type": "execute_result"
    },
    {
     "data": {
      "text/plain": [
       "(30952, 3440)"
      ]
     },
     "execution_count": 41,
     "metadata": {},
     "output_type": "execute_result"
    }
   ],
   "source": [
    "nr_input_tokens, nr_target_tokens\n",
    "# len(tokenizer.word_index)\n",
    "len(train_ids), len(val_ids)"
   ]
  },
  {
   "cell_type": "code",
   "execution_count": 42,
   "metadata": {
    "ExecuteTime": {
     "end_time": "2018-05-12T14:01:02.315400Z",
     "start_time": "2018-05-12T14:01:00.694768Z"
    }
   },
   "outputs": [],
   "source": [
    "encoder_gru = L.Bidirectional(\n",
    "    L.GRU(LATENT_DIM // 2, dropout=DROPOUT, return_state=True, name='encoder_gru'),\n",
    "    name='encoder_bidirectional'\n",
    ")\n",
    "decoder_gru = L.GRU(LATENT_DIM, dropout=DROPOUT, return_sequences=True, return_state=True, name='decoder_gru')\n",
    "decoder_dense = L.Dense(nr_target_tokens, activation='softmax', name='decoder_outputs')\n",
    "\n",
    "input_embedding = L.Embedding(\n",
    "    nr_input_tokens,\n",
    "    FULL_EMBEDDING_DIM,\n",
    "    mask_zero=True,\n",
    "    weights=[input_embedding_matrix],\n",
    "    name='input_embedding',\n",
    "    trainable=EMBEDDING_TRAINABLE,\n",
    ")\n",
    "target_embedding = L.Embedding(\n",
    "    nr_target_tokens,\n",
    "    FULL_EMBEDDING_DIM,\n",
    "    mask_zero=True,\n",
    "    weights=[target_embedding_matrix],\n",
    "    name='target_embedding',\n",
    "    trainable=EMBEDDING_TRAINABLE,\n",
    ")\n",
    "\n",
    "encoder_inputs = L.Input(shape=(max_len_input, ), dtype='int32', name='encoder_inputs')\n",
    "encoder_embeddings = input_embedding(encoder_inputs)\n",
    "_, encoder_state_1, encoder_state_2 = encoder_gru(encoder_embeddings)\n",
    "encoder_states = L.concatenate([encoder_state_1, encoder_state_2])\n",
    "\n",
    "decoder_inputs = L.Input(shape=(max_len_target-1, ), dtype='int32', name='decoder_inputs')\n",
    "decoder_mask = L.Masking(mask_value=0)(decoder_inputs)\n",
    "decoder_embeddings_inputs = target_embedding(decoder_mask)\n",
    "decoder_embeddings_outputs, _ = decoder_gru(decoder_embeddings_inputs, initial_state=encoder_states) \n",
    "decoder_outputs = decoder_dense(decoder_embeddings_outputs)\n",
    "\n",
    "model = Model(inputs=[encoder_inputs, decoder_inputs], outputs=decoder_outputs)\n",
    "\n",
    "inference_encoder_model = Model(encoder_inputs, encoder_states)\n",
    "    \n",
    "inference_decoder_state_inputs = L.Input(shape=(LATENT_DIM, ), dtype='float32', name='inference_decoder_state_inputs')\n",
    "inference_decoder_embeddings_outputs, inference_decoder_states = decoder_gru(\n",
    "    decoder_embeddings_inputs, initial_state=inference_decoder_state_inputs\n",
    ")\n",
    "inference_decoder_outputs = decoder_dense(inference_decoder_embeddings_outputs)\n",
    "\n",
    "inference_decoder_model = Model(\n",
    "    [decoder_inputs, inference_decoder_state_inputs], \n",
    "    [inference_decoder_outputs, inference_decoder_states]\n",
    ")"
   ]
  },
  {
   "cell_type": "code",
   "execution_count": 43,
   "metadata": {
    "ExecuteTime": {
     "end_time": "2018-05-12T14:01:02.573256Z",
     "start_time": "2018-05-12T14:01:02.569302Z"
    }
   },
   "outputs": [
    {
     "name": "stdout",
     "output_type": "stream",
     "text": [
      "__________________________________________________________________________________________________\n",
      "Layer (type)                    Output Shape         Param #     Connected to                     \n",
      "==================================================================================================\n",
      "encoder_inputs (InputLayer)     (None, 20)           0                                            \n",
      "__________________________________________________________________________________________________\n",
      "decoder_inputs (InputLayer)     (None, 21)           0                                            \n",
      "__________________________________________________________________________________________________\n",
      "input_embedding (Embedding)     (None, 20, 102)      186864      encoder_inputs[0][0]             \n",
      "__________________________________________________________________________________________________\n",
      "masking_2 (Masking)             (None, 21)           0           decoder_inputs[0][0]             \n",
      "__________________________________________________________________________________________________\n",
      "encoder_bidirectional (Bidirect [(None, 512), (None, 551424      input_embedding[0][0]            \n",
      "__________________________________________________________________________________________________\n",
      "target_embedding (Embedding)    (None, 21, 102)      139638      masking_2[0][0]                  \n",
      "__________________________________________________________________________________________________\n",
      "concatenate_2 (Concatenate)     (None, 512)          0           encoder_bidirectional[0][1]      \n",
      "                                                                 encoder_bidirectional[0][2]      \n",
      "__________________________________________________________________________________________________\n",
      "decoder_gru (GRU)               [(None, 21, 512), (N 944640      target_embedding[0][0]           \n",
      "                                                                 concatenate_2[0][0]              \n",
      "__________________________________________________________________________________________________\n",
      "decoder_outputs (Dense)         (None, 21, 1369)     702297      decoder_gru[0][0]                \n",
      "==================================================================================================\n",
      "Total params: 2,524,863\n",
      "Trainable params: 2,198,361\n",
      "Non-trainable params: 326,502\n",
      "__________________________________________________________________________________________________\n",
      "__________________________________________________________________________________________________\n",
      "Layer (type)                    Output Shape         Param #     Connected to                     \n",
      "==================================================================================================\n",
      "decoder_inputs (InputLayer)     (None, 21)           0                                            \n",
      "__________________________________________________________________________________________________\n",
      "masking_2 (Masking)             (None, 21)           0           decoder_inputs[0][0]             \n",
      "__________________________________________________________________________________________________\n",
      "target_embedding (Embedding)    (None, 21, 102)      139638      masking_2[0][0]                  \n",
      "__________________________________________________________________________________________________\n",
      "inference_decoder_state_inputs  (None, 512)          0                                            \n",
      "__________________________________________________________________________________________________\n",
      "decoder_gru (GRU)               [(None, 21, 512), (N 944640      target_embedding[0][0]           \n",
      "                                                                 inference_decoder_state_inputs[0]\n",
      "__________________________________________________________________________________________________\n",
      "decoder_outputs (Dense)         (None, 21, 1369)     702297      decoder_gru[1][0]                \n",
      "==================================================================================================\n",
      "Total params: 1,786,575\n",
      "Trainable params: 1,646,937\n",
      "Non-trainable params: 139,638\n",
      "__________________________________________________________________________________________________\n"
     ]
    }
   ],
   "source": [
    "model.summary()\n",
    "inference_decoder_model.summary()"
   ]
  },
  {
   "cell_type": "code",
   "execution_count": 44,
   "metadata": {
    "ExecuteTime": {
     "end_time": "2018-05-12T14:01:03.923639Z",
     "start_time": "2018-05-12T14:01:03.883713Z"
    }
   },
   "outputs": [],
   "source": [
    "model.compile(optimizer=keras.optimizers.Adam(clipnorm=1.), loss='categorical_crossentropy')"
   ]
  },
  {
   "cell_type": "code",
   "execution_count": 45,
   "metadata": {
    "ExecuteTime": {
     "end_time": "2018-05-12T14:06:08.286163Z",
     "start_time": "2018-05-12T14:01:04.936752Z"
    }
   },
   "outputs": [
    {
     "name": "stdout",
     "output_type": "stream",
     "text": [
      "Epoch 1/20\n",
      "242/242 [==============================] - 16s 65ms/step - loss: 3.0675 - val_loss: 2.0519\n",
      "Epoch 2/20\n",
      "242/242 [==============================] - 14s 59ms/step - loss: 1.8841 - val_loss: 1.6621\n",
      "Epoch 3/20\n",
      "242/242 [==============================] - 14s 60ms/step - loss: 1.6081 - val_loss: 1.5026\n",
      "Epoch 4/20\n",
      "242/242 [==============================] - 15s 61ms/step - loss: 1.4460 - val_loss: 1.3874\n",
      "Epoch 5/20\n",
      "242/242 [==============================] - 15s 63ms/step - loss: 1.3305 - val_loss: 1.3321\n",
      "Epoch 6/20\n",
      "242/242 [==============================] - 16s 65ms/step - loss: 1.2397 - val_loss: 1.2504\n",
      "Epoch 7/20\n",
      "242/242 [==============================] - 15s 60ms/step - loss: 1.1637 - val_loss: 1.2339\n",
      "Epoch 8/20\n",
      "242/242 [==============================] - 15s 60ms/step - loss: 1.0994 - val_loss: 1.2271\n",
      "Epoch 9/20\n",
      "242/242 [==============================] - 15s 60ms/step - loss: 1.0447 - val_loss: 1.1883\n",
      "Epoch 10/20\n",
      "242/242 [==============================] - 15s 60ms/step - loss: 0.9944 - val_loss: 1.1706\n",
      "Epoch 11/20\n",
      "242/242 [==============================] - 15s 64ms/step - loss: 0.9470 - val_loss: 1.1776\n",
      "Epoch 12/20\n",
      "242/242 [==============================] - 15s 63ms/step - loss: 0.9047 - val_loss: 1.1335\n",
      "Epoch 13/20\n",
      "242/242 [==============================] - 15s 63ms/step - loss: 0.8687 - val_loss: 1.1604\n",
      "Epoch 14/20\n",
      "242/242 [==============================] - 17s 69ms/step - loss: 0.8361 - val_loss: 1.1335\n",
      "Epoch 15/20\n",
      "242/242 [==============================] - 15s 64ms/step - loss: 0.8019 - val_loss: 1.1258\n",
      "Epoch 16/20\n",
      "242/242 [==============================] - 15s 62ms/step - loss: 0.7749 - val_loss: 1.1113\n",
      "Epoch 17/20\n",
      "242/242 [==============================] - 15s 62ms/step - loss: 0.7485 - val_loss: 1.1579\n",
      "Epoch 18/20\n",
      "242/242 [==============================] - 15s 63ms/step - loss: 0.7221 - val_loss: 1.1561\n",
      "Epoch 19/20\n",
      "242/242 [==============================] - 15s 62ms/step - loss: 0.6987 - val_loss: 1.1263\n",
      "Epoch 20/20\n",
      "242/242 [==============================] - 15s 63ms/step - loss: 0.6784 - val_loss: 1.1459\n"
     ]
    },
    {
     "data": {
      "text/plain": [
       "<keras.callbacks.History at 0x7f298dcdbfd0>"
      ]
     },
     "execution_count": 45,
     "metadata": {},
     "output_type": "execute_result"
    }
   ],
   "source": [
    "train_generator = create_batch_generator(train_ids)\n",
    "val_generator = create_batch_generator(val_ids)\n",
    "model.fit_generator(\n",
    "    train_generator,\n",
    "    steps_per_epoch=np.ceil(len(train_ids) / BATCH_SIZE),\n",
    "    epochs=20,\n",
    "    validation_data=val_generator,\n",
    "    validation_steps=np.ceil(len(val_ids) / BATCH_SIZE),\n",
    ")\n",
    "#model.fit([X, x_t_input], y_t_output, validation_split=0.1, epochs=EPOCHS, batch_size=BATCH_SIZE)"
   ]
  },
  {
   "cell_type": "code",
   "execution_count": 58,
   "metadata": {
    "ExecuteTime": {
     "end_time": "2018-05-12T14:12:36.440483Z",
     "start_time": "2018-05-12T14:12:36.423731Z"
    }
   },
   "outputs": [],
   "source": [
    "def decode_sequence(input_seq):\n",
    "    states_value = inference_encoder_model.predict(input_seq)\n",
    "    \n",
    "    # tokens = {idx: token for (token, idx) in tokenizer.word_index.items()}\n",
    "    tokens = {idx: token for (token, idx) in target_wordvec_index.items()}\n",
    "    start_token_idx = target_wordvec_index['<s>']\n",
    "    end_token_idx = target_wordvec_index['</s>']\n",
    "    \n",
    "    target_seq = np.zeros((1, max_len_target-1))\n",
    "    target_seq[0, 0] = start_token_idx\n",
    "    \n",
    "    decoded_sequence = [] \n",
    "    for i in range(max_len_target):\n",
    "        output_tokens, output_states = inference_decoder_model.predict(\n",
    "            [target_seq, states_value]\n",
    "        )\n",
    "        \n",
    "        # greedy search\n",
    "        sampled_token_idx = np.argmax(output_tokens[0, 0, :])\n",
    "        if sampled_token_idx == end_token_idx:\n",
    "            break\n",
    "        sampled_token = tokens.get(sampled_token_idx, '~')\n",
    "        decoded_sequence.append(sampled_token)\n",
    "            \n",
    "        target_seq[0, 0] = sampled_token_idx\n",
    "        states_value = output_states\n",
    "    \n",
    "    return sp_target.DecodePieces(decoded_sequence)"
   ]
  },
  {
   "cell_type": "code",
   "execution_count": 59,
   "metadata": {
    "ExecuteTime": {
     "end_time": "2018-05-12T14:12:39.290184Z",
     "start_time": "2018-05-12T14:12:39.285669Z"
    }
   },
   "outputs": [],
   "source": [
    "def predict(sentence):\n",
    "    # print(sentence),\n",
    "    # print(preprocess(sentence))\n",
    "    # print(subword_indices(preprocess(sentence)))\n",
    "    return decode_sequence(keras.preprocessing.sequence.pad_sequences(\n",
    "        [input_subword_indices(preprocess(sentence))],\n",
    "        padding='post',\n",
    "        maxlen=max_len_input,\n",
    "    ))"
   ]
  },
  {
   "cell_type": "code",
   "execution_count": 60,
   "metadata": {
    "ExecuteTime": {
     "end_time": "2018-05-12T14:12:40.552814Z",
     "start_time": "2018-05-12T14:12:39.747896Z"
    }
   },
   "outputs": [
    {
     "name": "stdout",
     "output_type": "stream",
     "text": [
      "'Hello.\\n' --> 'der fall.'\n",
      "'You are welcome.\\n' --> 'sie haben das wort.'\n",
      "'How do you do?\\n' --> 'wie können sie nicht tun?'\n",
      "'I hate mondays.\\n' --> 'ich habe mich gesprochen.'\n",
      "'I am a programmer.\\n' --> 'ich bin einterer.'\n",
      "'Data is the new oil.\\n' --> 'die würfel ist einout.'\n",
      "'It could be worse.\\n' --> 'es wird es nicht getan.'\n",
      "'I am on top of it.\\n' --> 'ich bin dafür.'\n",
      "'N° Uno\\n' --> '- aur'\n",
      "'Awesome!\\n' --> 'ein wachst!'\n",
      "'Put your feet up!\\n' --> 'wacht es auf doch vomauau!'\n",
      "'From the start till the end!\\n' --> 'und das wird die falluhe!'\n",
      "'From dusk till dawn.\\n' --> 'die angwem lautet ja.'\n"
     ]
    }
   ],
   "source": [
    "# Performance on some examples:\n",
    "EXAMPLES = [\n",
    "    'Hello.',\n",
    "    'You are welcome.',\n",
    "    'How do you do?',\n",
    "    'I hate mondays.',\n",
    "    'I am a programmer.',\n",
    "    'Data is the new oil.',\n",
    "    'It could be worse.',\n",
    "    \"I am on top of it.\",\n",
    "    \"N° Uno\",\n",
    "    \"Awesome!\",\n",
    "    \"Put your feet up!\",\n",
    "    \"From the start till the end!\",\n",
    "    \"From dusk till dawn.\",\n",
    "]\n",
    "for en in [sentence + '\\n' for sentence in EXAMPLES]:\n",
    "    print(f\"{en!r} --> {predict(en)!r}\")"
   ]
  },
  {
   "cell_type": "code",
   "execution_count": 62,
   "metadata": {
    "ExecuteTime": {
     "end_time": "2018-05-12T14:13:13.721481Z",
     "start_time": "2018-05-12T14:13:12.605766Z"
    }
   },
   "outputs": [
    {
     "name": "stdout",
     "output_type": "stream",
     "text": [
      "Original 'relating to wednesday:', got 'zum mittwoch:', exp: 'zum mittwoch:'\n",
      "Original 'that was the decision.', got 'das war der erste sache.', exp: 'das war der beschluß.'\n",
      "Original 'we have agreed to this.', got 'wir haben daraufterten.', exp: 'wir haben dem zugestimmt.'\n",
      "Original 'it is not a lot to ask.', got 'es ist nicht einfach.', exp: 'das ist nicht zuviel verlangt.'\n",
      "Original 'thank you very much.', got 'vielen dank.', exp: 'vielen dank.'\n",
      "Original 'that did not happen.', got 'das ist nicht geschehen.', exp: 'dazu kam es nicht.'\n",
      "Original 'the debate is closed.', got 'die aussprache ist geschlossen.', exp: 'die aussprache ist geschlossen.'\n",
      "Original 'the debate is closed.', got 'die aussprache ist geschlossen.', exp: 'die aussprache ist geschlossen.'\n",
      "Original 'the debate is closed.', got 'die aussprache ist geschlossen.', exp: 'die aussprache ist geschlossen.'\n",
      "Original 'what is the result?', got 'was ist die ergebnisse?', exp: 'was sind die folgen?'\n",
      "Original 'the debate is closed.', got 'die aussprache ist geschlossen.', exp: 'die aussprache ist geschlossen.'\n",
      "Original 'are there any comments?', got 'gibt es einwände?', exp: 'gibt es einwände?'\n",
      "Original 'thank you very much.', got 'vielen dank.', exp: 'vielen dank!'\n",
      "Original 'with what aim?', got 'welches ziel?', exp: 'zu welchem zweck?'\n",
      "Original 'this is not in question.', got 'das ist keine theorie.', exp: 'das steht außer zweifel.'\n",
      "Original 'we all agree on this.', got 'darin sind wir uns alle einig.', exp: 'das sehen wir alle ein.'\n",
      "Original 'why?', got 'warum?', exp: 'wieso?'\n",
      "Original 'no.', got 'nein.', exp: 'nein.'\n",
      "Original 'i do not believe so.', got 'ich glaube nicht.', exp: 'ich glaube nicht daran.'\n"
     ]
    }
   ],
   "source": [
    "# Performance on training set:\n",
    "for en, de in df[['input_texts', 'target_texts']][1:20].values.tolist():\n",
    "    print(f\"Original {en!r}, got {predict(en)!r}, exp: {de!r}\")"
   ]
  },
  {
   "cell_type": "code",
   "execution_count": 64,
   "metadata": {
    "ExecuteTime": {
     "end_time": "2018-05-12T14:13:37.888339Z",
     "start_time": "2018-05-12T14:13:36.724280Z"
    }
   },
   "outputs": [
    {
     "name": "stdout",
     "output_type": "stream",
     "text": [
      "Original '(loud applause)', got '(lebhafter beifall)', exp: '(lebhafter beifall)'\n",
      "Original 'more duty.', got 'vielleicht.', exp: 'unsere steuereinnahmen steigen.'\n",
      "Original 'the debate is closed.', got 'die aussprache ist geschlossen.', exp: 'die aussprache ist geschlossen.'\n",
      "Original 'the debate is closed.', got 'die aussprache ist geschlossen.', exp: 'die aussprache wird geschlossen.'\n",
      "Original '(applause)', got '(beifall)', exp: '(beifall)'\n",
      "Original 'we must act.', got 'wir müssen handeln.', exp: 'wir müssen handeln.'\n",
      "Original 'the debate is closed.', got 'die aussprache ist geschlossen.', exp: 'die aussprache ist geschlossen.'\n",
      "Original '(applause)', got '(beifall)', exp: '(beifall)'\n",
      "Original 'the debate is closed.', got 'die aussprache ist geschlossen.', exp: 'die aussprache ist geschlossen.'\n",
      "Original 'if not us, then who?', got 'wenn nicht, warum wäre das nicht?', exp: 'wer, wenn nicht wir?'\n",
      "Original 'this will be done.', got 'das wird auch funktionieren.', exp: 'dies werden wir einhalten.'\n",
      "Original 'we do not support this.', got 'wir nehmen das zur kenntnis.', exp: 'dies halten wir für nicht korrekt.'\n",
      "Original 'are we able to do it?', got 'sind wir dazu bereit?', exp: 'sind wir dazu in der lage?'\n",
      "Original 'where is this taking us?', got 'wo bleibt das dabei?', exp: 'wohin führt uns das?'\n",
      "Original 'tuesday:', got 'dienstag:', exp: 'zum dienstag:'\n",
      "Original 'is that not true?', got 'ist das nicht so ordnung?', exp: 'stimmt das etwa nicht?'\n",
      "Original 'health monitoring', got 'gesundheitsberichterstattung', exp: 'gesundheitsberichterstattung'\n",
      "Original 'that is their decision.', got 'das ist ihre realität.', exp: 'das ist ihre entscheidung.'\n",
      "Original 'no.', got 'nein.', exp: 'nein!'\n"
     ]
    }
   ],
   "source": [
    "# Performance on validation set\n",
    "val_df = df.iloc[val_ids]\n",
    "for en, de in val_df[['input_texts', 'target_texts']][1:20].values.tolist():\n",
    "    print(f\"Original {en!r}, got {predict(en)!r}, exp: {de!r}\")"
   ]
  },
  {
   "cell_type": "code",
   "execution_count": 66,
   "metadata": {
    "ExecuteTime": {
     "end_time": "2018-05-12T14:15:42.743145Z",
     "start_time": "2018-05-12T14:15:11.569339Z"
    }
   },
   "outputs": [
    {
     "data": {
      "application/vnd.jupyter.widget-view+json": {
       "model_id": "07e6fc0001e24505abf25dfef9abf9fe",
       "version_major": 2,
       "version_minor": 0
      },
      "text/plain": [
       "HBox(children=(IntProgress(value=0, max=500), HTML(value='')))"
      ]
     },
     "metadata": {},
     "output_type": "display_data"
    },
    {
     "name": "stdout",
     "output_type": "stream",
     "text": [
      "\n",
      "Average bleu score: 0.44106331655733166\n"
     ]
    }
   ],
   "source": [
    "import spacy\n",
    "try:\n",
    "    from spacy.lang.de import German\n",
    "except ModuleNotFoundError:\n",
    "    spacy.cli.download('de')\n",
    "    from spacy.lang.de import German\n",
    "from nltk.translate.bleu_score import sentence_bleu, SmoothingFunction\n",
    "\n",
    "parser = German()\n",
    "chencherry = SmoothingFunction()  # to handle short sequences, see also http://www.nltk.org/_modules/nltk/translate/bleu_score.html#SmoothingFunction.method3\n",
    "\n",
    "def remove_spaces_and_puncts(tokens):\n",
    "     return [token.orth_ for token in tokens if not (token.is_space or token.is_punct)]  \n",
    "\n",
    "bleu_scores = np.zeros(TEST_SIZE)\n",
    "nist_scores = np.zeros(TEST_SIZE)\n",
    "\n",
    "for i in tqdm(range(TEST_SIZE)):\n",
    "    pred_tokens = remove_spaces_and_puncts(parser(predict(df.iloc[i].input_texts)))\n",
    "    ref_tokens = remove_spaces_and_puncts(parser(df.iloc[i].target_texts))\n",
    "    bleu_scores[i] = sentence_bleu([ref_tokens], pred_tokens, smoothing_function=chencherry.method3)\n",
    "    \n",
    "print(\"Average bleu score:\", bleu_scores.mean())"
   ]
  },
  {
   "cell_type": "code",
   "execution_count": 28,
   "metadata": {
    "ExecuteTime": {
     "end_time": "2018-05-12T11:41:23.863650Z",
     "start_time": "2018-05-12T11:41:23.861855Z"
    }
   },
   "outputs": [],
   "source": [
    "## Conclusion\n",
    "\n",
    "# It doesn't work perfect, but fine enough to show that seq2seq works in some way. I wouldn't be surprised if the mean average error is better than average human bias for calculating without any tools.\n",
    "# For improvements and further discussions I'll move to a real problem (translating) and main steps will be:\n",
    "# * Bytepairencoding/Word embeddings\n",
    "# * Beam Search\n",
    "# * Attention models"
   ]
  }
 ],
 "metadata": {
  "kernelspec": {
   "display_name": "Python 3",
   "language": "python",
   "name": "python3"
  },
  "language_info": {
   "codemirror_mode": {
    "name": "ipython",
    "version": 3
   },
   "file_extension": ".py",
   "mimetype": "text/x-python",
   "name": "python",
   "nbconvert_exporter": "python",
   "pygments_lexer": "ipython3",
   "version": "3.6.3"
  },
  "varInspector": {
   "cols": {
    "lenName": 16,
    "lenType": 16,
    "lenVar": 40
   },
   "kernels_config": {
    "python": {
     "delete_cmd_postfix": "",
     "delete_cmd_prefix": "del ",
     "library": "var_list.py",
     "varRefreshCmd": "print(var_dic_list())"
    },
    "r": {
     "delete_cmd_postfix": ") ",
     "delete_cmd_prefix": "rm(",
     "library": "var_list.r",
     "varRefreshCmd": "cat(var_dic_list()) "
    }
   },
   "oldHeight": 301,
   "position": {
    "height": "40px",
    "left": "987px",
    "right": "23px",
    "top": "124px",
    "width": "350px"
   },
   "types_to_exclude": [
    "module",
    "function",
    "builtin_function_or_method",
    "instance",
    "_Feature"
   ],
   "varInspector_section_display": "none",
   "window_display": true
  }
 },
 "nbformat": 4,
 "nbformat_minor": 2
}
