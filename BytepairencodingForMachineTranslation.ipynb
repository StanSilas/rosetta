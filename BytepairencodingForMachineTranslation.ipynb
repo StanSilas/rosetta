{
 "cells": [
  {
   "cell_type": "markdown",
   "metadata": {},
   "source": [
    "# Bytepairencoding seq2seq model in keras that translates english <-> german"
   ]
  },
  {
   "cell_type": "markdown",
   "metadata": {},
   "source": [
    "As a next step I take the model used for the [toy problem of adding/subtracting numbers](SimpleModelForAddingAndSubstraction.ipynb) and train it with english/german data for machine translation.\n",
    "\n",
    "As trainings set I use the [European Parliament Proceedings Parallel Corpus 1996-2011](http://statmt.org/europarl/) German-English corpus."
   ]
  },
  {
   "cell_type": "code",
   "execution_count": 1,
   "metadata": {
    "ExecuteTime": {
     "end_time": "2018-05-12T21:42:00.235874Z",
     "start_time": "2018-05-12T21:41:58.925300Z"
    }
   },
   "outputs": [
    {
     "name": "stderr",
     "output_type": "stream",
     "text": [
      "/home/janek/.local/share/virtualenvs/rosetta-WKmHhL03/lib/python3.6/site-packages/h5py/__init__.py:36: FutureWarning: Conversion of the second argument of issubdtype from `float` to `np.floating` is deprecated. In future, it will be treated as `np.float64 == np.dtype(float).type`.\n",
      "  from ._conv import register_converters as _register_converters\n",
      "Using TensorFlow backend.\n"
     ]
    }
   ],
   "source": [
    "# technical detail so that an instance (maybe running in a different window)\n",
    "# doesn't take all the GPU memory resulting in some strange error messages\n",
    "import tensorflow as tf\n",
    "from keras.backend.tensorflow_backend import set_session\n",
    "config = tf.ConfigProto()\n",
    "config.gpu_options.per_process_gpu_memory_fraction = 0.5\n",
    "set_session(tf.Session(config=config))"
   ]
  },
  {
   "cell_type": "code",
   "execution_count": 2,
   "metadata": {
    "ExecuteTime": {
     "end_time": "2018-05-12T21:42:00.589745Z",
     "start_time": "2018-05-12T21:42:00.237272Z"
    }
   },
   "outputs": [],
   "source": [
    "import math\n",
    "import matplotlib.pyplot as plt\n",
    "import os\n",
    "import re\n",
    "import tarfile\n",
    "\n",
    "from gensim.models import KeyedVectors\n",
    "import keras\n",
    "import keras.layers as L\n",
    "from keras.models import Model\n",
    "from keras.preprocessing.sequence import pad_sequences\n",
    "from keras import regularizers\n",
    "import numpy as np\n",
    "import pandas as pd\n",
    "import requests\n",
    "import sentencepiece as spm\n",
    "from sklearn.model_selection import train_test_split\n",
    "from tqdm import tqdm_notebook as tqdm\n",
    "\n",
    "# Fixing random state ensure reproducible results\n",
    "RANDOM_STATE=42\n",
    "np.random.seed(RANDOM_STATE)\n",
    "tf.set_random_seed(RANDOM_STATE)"
   ]
  },
  {
   "cell_type": "code",
   "execution_count": 3,
   "metadata": {
    "ExecuteTime": {
     "end_time": "2018-05-12T21:42:00.594045Z",
     "start_time": "2018-05-12T21:42:00.591019Z"
    }
   },
   "outputs": [],
   "source": [
    "# START = '^'\n",
    "# END = '\\n'\n",
    "\n",
    "MAX_INPUT_LENGTH = 25 #50\n",
    "MAX_TARGET_LENGTH = 35 #65\n",
    "LATENT_DIM = 512\n",
    "EMBEDDING_DIM = 300\n",
    "BPE_MERGE_OPERATIONS = 5_000  # I'd love to use 10_000 x 300, but this one is broken: https://github.com/bheinzerling/bpemb/issues/6\n",
    "EPOCHS = 20\n",
    "BATCH_SIZE = 128\n",
    "DROPOUT = 0.5\n",
    "TEST_SIZE = 500\n",
    "EMBEDDING_TRAINABLE = True\n",
    "LEARNING_RATE = 5e-4\n",
    "REGULARIZER = regularizers.l2(1e-6)"
   ]
  },
  {
   "cell_type": "markdown",
   "metadata": {
    "ExecuteTime": {
     "end_time": "2018-05-08T13:03:31.674082Z",
     "start_time": "2018-05-08T13:03:31.670919Z"
    }
   },
   "source": [
    "## Download and explore data"
   ]
  },
  {
   "cell_type": "code",
   "execution_count": 4,
   "metadata": {
    "ExecuteTime": {
     "end_time": "2018-05-12T21:42:00.605683Z",
     "start_time": "2018-05-12T21:42:00.595870Z"
    }
   },
   "outputs": [
    {
     "name": "stdout",
     "output_type": "stream",
     "text": [
      "de-en.tgz already downloaded (188.6 MB)\n",
      "en.wiki.bpe.op5000.model already downloaded (0.3 MB)\n",
      "en.wiki.bpe.op5000.d300.w2v.bin.tar.gz already downloaded (6.2 MB)\n",
      "de.wiki.bpe.op5000.model already downloaded (0.3 MB)\n",
      "de.wiki.bpe.op5000.d300.w2v.bin.tar.gz already downloaded (5.7 MB)\n"
     ]
    }
   ],
   "source": [
    "def download_file(fname, url):\n",
    "    print(f\"Downloading {fname} from {url} ...\")\n",
    "    response = requests.get(url, stream=True)\n",
    "\n",
    "    total_size = int(response.headers.get('content-length', 0)); \n",
    "    block_size = 1024\n",
    "\n",
    "    download = tqdm(\n",
    "        response.iter_content(block_size),\n",
    "        total=math.ceil(total_size // block_size),\n",
    "        unit='KB',\n",
    "        unit_scale=True\n",
    "    )\n",
    "    with open(f\"{fname}\", \"wb\") as handle:\n",
    "        for data in download:\n",
    "            handle.write(data)\n",
    "\n",
    "PATH = 'data'\n",
    "INPUT_LANG = 'en'\n",
    "TARGET_LANG = 'de'\n",
    "LANGUAGES = [INPUT_LANG, TARGET_LANG]\n",
    "BPE_URL = {lang: f'http://cosyne.h-its.org/bpemb/data/{lang}/' for lang in LANGUAGES}\n",
    "BPE_MODEL_NAME = {lang: f'{lang}.wiki.bpe.op{BPE_MERGE_OPERATIONS}.model' for lang in LANGUAGES}\n",
    "BPE_WORD2VEC_NAME = {lang: f'{lang}.wiki.bpe.op{BPE_MERGE_OPERATIONS}.d{EMBEDDING_DIM}.w2v.bin' for lang in LANGUAGES}\n",
    "DOWNLOAD_FILES = {\n",
    "    'de-en.tgz': 'http://statmt.org/europarl/v7/de-en.tgz',\n",
    "    BPE_MODEL_NAME[INPUT_LANG]: f'{BPE_URL[INPUT_LANG]}/{BPE_MODEL_NAME[INPUT_LANG]}',\n",
    "    BPE_WORD2VEC_NAME[INPUT_LANG] + '.tar.gz': f'{BPE_URL[INPUT_LANG]}/{BPE_WORD2VEC_NAME[INPUT_LANG]}' + '.tar.gz',\n",
    "    BPE_MODEL_NAME[TARGET_LANG]: f'{BPE_URL[TARGET_LANG]}/{BPE_MODEL_NAME[TARGET_LANG]}',\n",
    "    BPE_WORD2VEC_NAME[TARGET_LANG] + '.tar.gz': f'{BPE_URL[TARGET_LANG]}/{BPE_WORD2VEC_NAME[TARGET_LANG]}' + '.tar.gz',\n",
    "}\n",
    "os.makedirs(PATH, exist_ok=True)\n",
    "\n",
    "for name, url in DOWNLOAD_FILES.items():\n",
    "    fname = os.path.join(PATH, name)\n",
    "    exists = os.path.exists(fname)\n",
    "    size = os.path.getsize(fname) if exists else -1\n",
    "    if exists and size > 0:\n",
    "        print(f'{name} already downloaded ({size / 2**20:3.1f} MB)')\n",
    "        continue\n",
    "    download_file(fname, url)\n",
    "    if (re.search(r'\\.(tgz|tar\\.gz)$', fname)):\n",
    "        tar = tarfile.open(fname, \"r:gz\")\n",
    "        tar.extractall(path=PATH)\n",
    "        tar.close()\n",
    "        print(f'Extracted {fname} ...')\n"
   ]
  },
  {
   "cell_type": "code",
   "execution_count": 5,
   "metadata": {
    "ExecuteTime": {
     "end_time": "2018-05-12T21:42:49.137212Z",
     "start_time": "2018-05-12T21:42:00.607479Z"
    }
   },
   "outputs": [],
   "source": [
    "# Following https://github.com/bheinzerling/bpemb/blob/master/preprocess_text.sh\n",
    "# (ignoring urls as there shouldn't be any in parliament discussions)\n",
    "def preprocess(line):\n",
    "    line = re.sub(r'\\d+', '0', line)\n",
    "    line = re.sub(r'\\s+', ' ', line)  # keep newlines, but strip together all other whitespaces\n",
    "    return line.lower().strip()\n",
    "\n",
    "def read_corpus_lines(language):\n",
    "    return [preprocess(line) for line in open(f'{PATH}/europarl-v7.de-en.{language}', 'r').readlines()]\n",
    "    \n",
    "pd.set_option('max_colwidth', 60)\n",
    "df = pd.DataFrame(data={\n",
    "    'input_texts': read_corpus_lines('en'),\n",
    "    'target_texts': read_corpus_lines('de'), \n",
    "})\n",
    "# df.target_texts = START + df.target_texts + END"
   ]
  },
  {
   "cell_type": "code",
   "execution_count": 6,
   "metadata": {
    "ExecuteTime": {
     "end_time": "2018-05-12T21:42:50.142303Z",
     "start_time": "2018-05-12T21:42:49.139651Z"
    }
   },
   "outputs": [
    {
     "data": {
      "text/plain": [
       "1920209"
      ]
     },
     "execution_count": 6,
     "metadata": {},
     "output_type": "execute_result"
    },
    {
     "data": {
      "text/html": [
       "<div>\n",
       "<style scoped>\n",
       "    .dataframe tbody tr th:only-of-type {\n",
       "        vertical-align: middle;\n",
       "    }\n",
       "\n",
       "    .dataframe tbody tr th {\n",
       "        vertical-align: top;\n",
       "    }\n",
       "\n",
       "    .dataframe thead th {\n",
       "        text-align: right;\n",
       "    }\n",
       "</style>\n",
       "<table border=\"1\" class=\"dataframe\">\n",
       "  <thead>\n",
       "    <tr style=\"text-align: right;\">\n",
       "      <th></th>\n",
       "      <th>input_texts</th>\n",
       "      <th>target_texts</th>\n",
       "      <th>input_length</th>\n",
       "      <th>target_length</th>\n",
       "    </tr>\n",
       "  </thead>\n",
       "  <tbody>\n",
       "    <tr>\n",
       "      <th>0</th>\n",
       "      <td>resumption of the session</td>\n",
       "      <td>wiederaufnahme der sitzungsperiode</td>\n",
       "      <td>25</td>\n",
       "      <td>34</td>\n",
       "    </tr>\n",
       "    <tr>\n",
       "      <th>1</th>\n",
       "      <td>i declare resumed the session of the european parliament...</td>\n",
       "      <td>ich erkläre die am freitag, dem 0. dezember unterbrochen...</td>\n",
       "      <td>203</td>\n",
       "      <td>217</td>\n",
       "    </tr>\n",
       "    <tr>\n",
       "      <th>2</th>\n",
       "      <td>although, as you will have seen, the dreaded 'millennium...</td>\n",
       "      <td>wie sie feststellen konnten, ist der gefürchtete \"millen...</td>\n",
       "      <td>191</td>\n",
       "      <td>185</td>\n",
       "    </tr>\n",
       "    <tr>\n",
       "      <th>3</th>\n",
       "      <td>you have requested a debate on this subject in the cours...</td>\n",
       "      <td>im parlament besteht der wunsch nach einer aussprache im...</td>\n",
       "      <td>105</td>\n",
       "      <td>110</td>\n",
       "    </tr>\n",
       "    <tr>\n",
       "      <th>4</th>\n",
       "      <td>in the meantime, i should like to observe a minute' s si...</td>\n",
       "      <td>heute möchte ich sie bitten - das ist auch der wunsch ei...</td>\n",
       "      <td>232</td>\n",
       "      <td>217</td>\n",
       "    </tr>\n",
       "  </tbody>\n",
       "</table>\n",
       "</div>"
      ],
      "text/plain": [
       "                                                   input_texts  \\\n",
       "0                                    resumption of the session   \n",
       "1  i declare resumed the session of the european parliament...   \n",
       "2  although, as you will have seen, the dreaded 'millennium...   \n",
       "3  you have requested a debate on this subject in the cours...   \n",
       "4  in the meantime, i should like to observe a minute' s si...   \n",
       "\n",
       "                                                  target_texts  input_length  \\\n",
       "0                           wiederaufnahme der sitzungsperiode            25   \n",
       "1  ich erkläre die am freitag, dem 0. dezember unterbrochen...           203   \n",
       "2  wie sie feststellen konnten, ist der gefürchtete \"millen...           191   \n",
       "3  im parlament besteht der wunsch nach einer aussprache im...           105   \n",
       "4  heute möchte ich sie bitten - das ist auch der wunsch ei...           232   \n",
       "\n",
       "   target_length  \n",
       "0             34  \n",
       "1            217  \n",
       "2            185  \n",
       "3            110  \n",
       "4            217  "
      ]
     },
     "execution_count": 6,
     "metadata": {},
     "output_type": "execute_result"
    }
   ],
   "source": [
    "len(df)\n",
    "df.target_texts = df.target_texts  # encode a start symbol (doesn't occur in texts)\n",
    "df['input_length'] = df.input_texts.apply(len)\n",
    "df['target_length'] = df.target_texts.apply(len)\n",
    "df.head()"
   ]
  },
  {
   "cell_type": "code",
   "execution_count": 7,
   "metadata": {
    "ExecuteTime": {
     "end_time": "2018-05-12T21:42:50.147214Z",
     "start_time": "2018-05-12T21:42:50.144718Z"
    }
   },
   "outputs": [],
   "source": [
    "# x = df.input_length\n",
    "# logbins = np.logspace(1,5,20)\n",
    "# plt.hist(x, bins=logbins)\n",
    "# plt.xscale('log')\n",
    "# plt.show();"
   ]
  },
  {
   "cell_type": "code",
   "execution_count": 8,
   "metadata": {
    "ExecuteTime": {
     "end_time": "2018-05-12T21:42:50.240137Z",
     "start_time": "2018-05-12T21:42:50.149051Z"
    }
   },
   "outputs": [
    {
     "data": {
      "text/plain": [
       "34392"
      ]
     },
     "execution_count": 8,
     "metadata": {},
     "output_type": "execute_result"
    }
   ],
   "source": [
    "non_empty = (df.input_length > 1) & (df.target_length > 1)  # there are empty phrases like '\\n' --> 'Frau Präsidentin\\n'\n",
    "short_inputs = (df.input_length < MAX_INPUT_LENGTH) & (df.target_length < MAX_TARGET_LENGTH)\n",
    "sum(non_empty & short_inputs)\n",
    "df = df[non_empty & short_inputs]"
   ]
  },
  {
   "cell_type": "code",
   "execution_count": 9,
   "metadata": {
    "ExecuteTime": {
     "end_time": "2018-05-12T21:42:50.360763Z",
     "start_time": "2018-05-12T21:42:50.242365Z"
    }
   },
   "outputs": [
    {
     "data": {
      "text/plain": [
       "True"
      ]
     },
     "execution_count": 9,
     "metadata": {},
     "output_type": "execute_result"
    },
    {
     "name": "stdout",
     "output_type": "stream",
     "text": [
      "['▁this', '▁is', '▁a', '▁test']\n"
     ]
    },
    {
     "data": {
      "text/plain": [
       "True"
      ]
     },
     "execution_count": 9,
     "metadata": {},
     "output_type": "execute_result"
    },
    {
     "name": "stdout",
     "output_type": "stream",
     "text": [
      "['▁das', '▁ist', '▁ein', '▁test']\n"
     ]
    }
   ],
   "source": [
    "input_pretrained_bpe = KeyedVectors.load_word2vec_format(os.path.join(PATH, BPE_WORD2VEC_NAME[INPUT_LANG]), binary=True)\n",
    "target_pretrained_bpe = KeyedVectors.load_word2vec_format(os.path.join(PATH, BPE_WORD2VEC_NAME[TARGET_LANG]), binary=True)\n",
    "sp_input = spm.SentencePieceProcessor()\n",
    "sp_input.Load(os.path.join(PATH, BPE_MODEL_NAME[INPUT_LANG]))\n",
    "subwords = sp_input.EncodeAsPieces(\"this is a test\")\n",
    "print(subwords)\n",
    "sp_target = spm.SentencePieceProcessor()\n",
    "sp_target.Load(os.path.join(PATH, BPE_MODEL_NAME[TARGET_LANG]))\n",
    "subwords = sp_target.EncodeAsPieces(\"das ist ein test\")\n",
    "print(subwords)"
   ]
  },
  {
   "cell_type": "code",
   "execution_count": 10,
   "metadata": {
    "ExecuteTime": {
     "end_time": "2018-05-12T21:42:51.308949Z",
     "start_time": "2018-05-12T21:42:50.362394Z"
    }
   },
   "outputs": [
    {
     "name": "stderr",
     "output_type": "stream",
     "text": [
      "/home/janek/.local/share/virtualenvs/rosetta-WKmHhL03/lib/python3.6/site-packages/ipykernel_launcher.py:4: DeprecationWarning: Call to deprecated `wv` (Attribute will be removed in 4.0.0, use self instead).\n",
      "  after removing the cwd from sys.path.\n",
      "/home/janek/.local/share/virtualenvs/rosetta-WKmHhL03/lib/python3.6/site-packages/ipykernel_launcher.py:11: DeprecationWarning: Call to deprecated `wv` (Attribute will be removed in 4.0.0, use self instead).\n",
      "  # This is added back by InteractiveShellApp.init_path()\n"
     ]
    }
   ],
   "source": [
    "input_wordvec_index = dict({\n",
    "    word: index \n",
    "    for index, word \n",
    "    in enumerate(['<pad>', '<s>', '</s>'] + input_pretrained_bpe.wv.index2word)  # haven't found start/stop tokens, so add them manually\n",
    "})\n",
    "input_unk_index = input_wordvec_index['<unk>']\n",
    "\n",
    "target_wordvec_index = dict({\n",
    "    word: index \n",
    "    for index, word \n",
    "    in enumerate(['<pad>', '<s>', '</s>'] + target_pretrained_bpe.wv.index2word)  # haven't found start/stop tokens, so add them manually\n",
    "})\n",
    "target_unk_index = target_wordvec_index['<unk>']\n",
    "\n",
    "def subword_indices(text, unk_index, sp, wordvec_index):\n",
    "    subwords = ['<s>'] + sp.EncodeAsPieces(text) + ['</s>']  # automatic add start/stop index\n",
    "    return [wordvec_index.get(subword, unk_index) for subword in subwords]\n",
    "\n",
    "def input_subword_indices(text):\n",
    "    return subword_indices(text, input_unk_index, sp_input, input_wordvec_index)\n",
    "\n",
    "def target_subword_indices(text):\n",
    "    return subword_indices(text, target_unk_index, sp_target, target_wordvec_index)\n",
    "\n",
    "FULL_EMBEDDING_DIM = EMBEDDING_DIM + 2\n",
    "input_embedding_matrix = np.zeros((len(input_wordvec_index), FULL_EMBEDDING_DIM))\n",
    "input_embedding_matrix[0, :] = 1e-6 * np.random.standard_normal(FULL_EMBEDDING_DIM)  # pad symbol as close to zero\n",
    "input_embedding_matrix[1, -1] = 1  # one hot encode start symbol\n",
    "input_embedding_matrix[2, -2] = 1  # one hot encode stop symbol\n",
    "input_embedding_matrix[3:, :-2] = input_pretrained_bpe.vectors\n",
    "\n",
    "target_embedding_matrix = np.zeros((len(target_wordvec_index), FULL_EMBEDDING_DIM))\n",
    "target_embedding_matrix[0, :] = 1e-6 * np.random.standard_normal(FULL_EMBEDDING_DIM)  # pad symbol as close to zero\n",
    "target_embedding_matrix[1, -1] = 1  # one hot encode start symbol\n",
    "target_embedding_matrix[2, -2] = 1  # one hot encode stop symbol\n",
    "target_embedding_matrix[3:, :-2] = target_pretrained_bpe.vectors\n",
    "\n",
    "df['input_sequences'] = df.input_texts.apply(input_subword_indices)\n",
    "df['target_sequences'] = df.target_texts.apply(target_subword_indices)"
   ]
  },
  {
   "cell_type": "code",
   "execution_count": 11,
   "metadata": {
    "ExecuteTime": {
     "end_time": "2018-05-12T21:42:51.316095Z",
     "start_time": "2018-05-12T21:42:51.310229Z"
    }
   },
   "outputs": [
    {
     "data": {
      "text/plain": [
       "array([[ 3.57015486e-07, -6.92909595e-07,  8.99599875e-07,\n",
       "         3.07299521e-07,  8.12862119e-07,  6.29628842e-07,\n",
       "        -8.28995011e-07, -5.60181040e-07],\n",
       "       [ 0.00000000e+00,  0.00000000e+00,  0.00000000e+00,\n",
       "         0.00000000e+00,  0.00000000e+00,  0.00000000e+00,\n",
       "         0.00000000e+00,  1.00000000e+00],\n",
       "       [ 0.00000000e+00,  0.00000000e+00,  0.00000000e+00,\n",
       "         0.00000000e+00,  0.00000000e+00,  0.00000000e+00,\n",
       "         1.00000000e+00,  0.00000000e+00],\n",
       "       [-7.12909997e-02,  1.36628002e-01, -9.38740000e-02,\n",
       "        -1.37160001e-02,  5.37099987e-02,  5.30349985e-02,\n",
       "         0.00000000e+00,  0.00000000e+00],\n",
       "       [-5.39029986e-02, -1.07611001e-01, -3.56251001e-01,\n",
       "         6.32959977e-02,  1.06265001e-01, -1.88016996e-01,\n",
       "         0.00000000e+00,  0.00000000e+00]])"
      ]
     },
     "execution_count": 11,
     "metadata": {},
     "output_type": "execute_result"
    },
    {
     "data": {
      "text/plain": [
       "array([[-0.240234  ,  0.259846  ,  0.233096  ,  1.18377697, -0.26557201,\n",
       "        -0.147195  ,  0.        ,  0.        ],\n",
       "       [ 0.74185598,  0.96104002, -0.303011  , -0.01168   , -0.26880601,\n",
       "         0.085153  ,  0.        ,  0.        ],\n",
       "       [-0.086124  , -0.168327  ,  0.055605  ,  1.53186297, -0.044677  ,\n",
       "         0.176467  ,  0.        ,  0.        ],\n",
       "       [-0.36836901,  0.186533  ,  0.39787501,  0.50464398,  0.097682  ,\n",
       "        -0.148711  ,  0.        ,  0.        ],\n",
       "       [ 0.272315  ,  0.35633501,  0.22585601,  0.58415902, -0.160238  ,\n",
       "         0.018695  ,  0.        ,  0.        ]])"
      ]
     },
     "execution_count": 11,
     "metadata": {},
     "output_type": "execute_result"
    },
    {
     "data": {
      "text/plain": [
       "array([[-2.69874935e-07, -9.78763716e-07, -4.44293260e-07,\n",
       "         3.77300493e-07,  7.56988617e-07, -9.22165324e-07,\n",
       "         8.69605920e-07,  1.35563786e-06],\n",
       "       [ 0.00000000e+00,  0.00000000e+00,  0.00000000e+00,\n",
       "         0.00000000e+00,  0.00000000e+00,  0.00000000e+00,\n",
       "         0.00000000e+00,  1.00000000e+00],\n",
       "       [ 0.00000000e+00,  0.00000000e+00,  0.00000000e+00,\n",
       "         0.00000000e+00,  0.00000000e+00,  0.00000000e+00,\n",
       "         1.00000000e+00,  0.00000000e+00],\n",
       "       [-3.56779993e-02, -7.22139999e-02, -6.20569997e-02,\n",
       "         2.30627999e-01,  1.21431999e-01,  1.28129005e-01,\n",
       "         0.00000000e+00,  0.00000000e+00]])"
      ]
     },
     "execution_count": 11,
     "metadata": {},
     "output_type": "execute_result"
    }
   ],
   "source": [
    "input_embedding_matrix[:5, -8:]\n",
    "input_embedding_matrix[-5:, -8:]\n",
    "target_embedding_matrix[:4, -8:]"
   ]
  },
  {
   "cell_type": "code",
   "execution_count": 12,
   "metadata": {
    "ExecuteTime": {
     "end_time": "2018-05-12T21:42:51.320312Z",
     "start_time": "2018-05-12T21:42:51.317766Z"
    }
   },
   "outputs": [],
   "source": [
    "# corpus = pd.concat([df.input_texts, df.target_texts])\n",
    "# corpus = df.target_texts"
   ]
  },
  {
   "cell_type": "code",
   "execution_count": 13,
   "metadata": {
    "ExecuteTime": {
     "end_time": "2018-05-12T21:42:51.330270Z",
     "start_time": "2018-05-12T21:42:51.321792Z"
    }
   },
   "outputs": [],
   "source": [
    "# tokenizer = keras.preprocessing.text.Tokenizer(num_words=100, filters=None, char_level=True, oov_token='~')\n",
    "# tokenizer.fit_on_texts(corpus)\n",
    "# # df['input_sequences'] = tokenizer.texts_to_sequences(df.input_texts)\n",
    "# df['target_sequences'] = tokenizer.texts_to_sequences(df.target_texts)"
   ]
  },
  {
   "cell_type": "code",
   "execution_count": 14,
   "metadata": {
    "ExecuteTime": {
     "end_time": "2018-05-12T21:42:51.335139Z",
     "start_time": "2018-05-12T21:42:51.331672Z"
    }
   },
   "outputs": [],
   "source": [
    "# list(reversed(sorted(tokenizer.word_counts.items(), key=lambda d: d[1])))\n",
    "# sum(1 for w, count in tokenizer.word_counts.items() if count > 1000)"
   ]
  },
  {
   "cell_type": "code",
   "execution_count": 15,
   "metadata": {
    "ExecuteTime": {
     "end_time": "2018-05-12T21:42:51.356217Z",
     "start_time": "2018-05-12T21:42:51.336469Z"
    }
   },
   "outputs": [],
   "source": [
    "max_len_input = df.input_sequences.apply(len).max()\n",
    "max_len_target = df.target_sequences.apply(len).max()\n",
    "nr_input_tokens = len(input_wordvec_index)  \n",
    "nr_target_tokens = len(target_wordvec_index)  #len(tokenizer.word_index) + 1  # add 0 padding not in word_index contained\n",
    "\n",
    "# one hot encoded y_t_output wouldn't fit into memory any longer\n",
    "# so need to train/validate on batches generated on the fly\n",
    "def create_batch_generator(samples_ids):\n",
    "    \n",
    "    def batch_generator():\n",
    "        nr_batches = np.ceil(len(samples_ids) / BATCH_SIZE)\n",
    "        while True:\n",
    "            shuffled_ids = np.random.permutation(samples_ids)\n",
    "            batch_splits = np.array_split(shuffled_ids, nr_batches)\n",
    "            for batch_ids in batch_splits:\n",
    "                batch_X = pad_sequences(df.iloc[batch_ids].input_sequences, padding='post', maxlen=max_len_input)\n",
    "                batch_y = pad_sequences(df.iloc[batch_ids].target_sequences, padding='post', maxlen=max_len_target)\n",
    "                batch_y_t_output = keras.utils.to_categorical(batch_y[:,1:], num_classes=nr_target_tokens)\n",
    "                batch_x_t_input = batch_y[:,:-1]\n",
    "                yield ([batch_X, batch_x_t_input], batch_y_t_output)\n",
    "    \n",
    "    return batch_generator()"
   ]
  },
  {
   "cell_type": "code",
   "execution_count": 16,
   "metadata": {
    "ExecuteTime": {
     "end_time": "2018-05-12T21:42:51.361918Z",
     "start_time": "2018-05-12T21:42:51.357756Z"
    }
   },
   "outputs": [],
   "source": [
    "train_ids, val_ids = train_test_split(np.arange(df.shape[0]), test_size=0.1)"
   ]
  },
  {
   "cell_type": "code",
   "execution_count": 17,
   "metadata": {
    "ExecuteTime": {
     "end_time": "2018-05-12T21:42:51.369793Z",
     "start_time": "2018-05-12T21:42:51.363984Z"
    }
   },
   "outputs": [
    {
     "data": {
      "text/plain": [
       "(5829, 5367)"
      ]
     },
     "execution_count": 17,
     "metadata": {},
     "output_type": "execute_result"
    },
    {
     "data": {
      "text/plain": [
       "(30952, 3440)"
      ]
     },
     "execution_count": 17,
     "metadata": {},
     "output_type": "execute_result"
    }
   ],
   "source": [
    "nr_input_tokens, nr_target_tokens\n",
    "# len(tokenizer.word_index)\n",
    "len(train_ids), len(val_ids)"
   ]
  },
  {
   "cell_type": "code",
   "execution_count": 18,
   "metadata": {
    "ExecuteTime": {
     "end_time": "2018-05-12T21:42:52.713037Z",
     "start_time": "2018-05-12T21:42:51.371344Z"
    }
   },
   "outputs": [],
   "source": [
    "encoder_gru = L.Bidirectional(\n",
    "    L.GRU(LATENT_DIM // 2, dropout=DROPOUT, return_state=True, name='encoder_gru'),\n",
    "    name='encoder_bidirectional'\n",
    ")\n",
    "decoder_gru = L.GRU(LATENT_DIM, dropout=DROPOUT, return_sequences=True, return_state=True, name='decoder_gru')\n",
    "decoder_dense = L.Dense(nr_target_tokens, activation='softmax', name='decoder_outputs')\n",
    "\n",
    "input_embedding = L.Embedding(\n",
    "    nr_input_tokens,\n",
    "    FULL_EMBEDDING_DIM,\n",
    "    mask_zero=True,\n",
    "    weights=[input_embedding_matrix],\n",
    "    name='input_embedding',\n",
    "    trainable=EMBEDDING_TRAINABLE,\n",
    ")\n",
    "target_embedding = L.Embedding(\n",
    "    nr_target_tokens,\n",
    "    FULL_EMBEDDING_DIM,\n",
    "    mask_zero=True,\n",
    "    weights=[target_embedding_matrix],\n",
    "    name='target_embedding',\n",
    "    trainable=EMBEDDING_TRAINABLE,\n",
    ")\n",
    "\n",
    "encoder_inputs = L.Input(shape=(max_len_input, ), dtype='int32', name='encoder_inputs')\n",
    "encoder_embeddings = input_embedding(encoder_inputs)\n",
    "_, encoder_state_1, encoder_state_2 = encoder_gru(encoder_embeddings)\n",
    "encoder_states = L.concatenate([encoder_state_1, encoder_state_2])\n",
    "\n",
    "decoder_inputs = L.Input(shape=(max_len_target-1, ), dtype='int32', name='decoder_inputs')\n",
    "decoder_mask = L.Masking(mask_value=0)(decoder_inputs)\n",
    "decoder_embeddings_inputs = target_embedding(decoder_mask)\n",
    "decoder_embeddings_outputs, _ = decoder_gru(decoder_embeddings_inputs, initial_state=encoder_states) \n",
    "decoder_outputs = decoder_dense(decoder_embeddings_outputs)\n",
    "\n",
    "model = Model(inputs=[encoder_inputs, decoder_inputs], outputs=decoder_outputs)\n",
    "\n",
    "inference_encoder_model = Model(encoder_inputs, encoder_states)\n",
    "    \n",
    "inference_decoder_state_inputs = L.Input(shape=(LATENT_DIM, ), dtype='float32', name='inference_decoder_state_inputs')\n",
    "inference_decoder_embeddings_outputs, inference_decoder_states = decoder_gru(\n",
    "    decoder_embeddings_inputs, initial_state=inference_decoder_state_inputs\n",
    ")\n",
    "inference_decoder_outputs = decoder_dense(inference_decoder_embeddings_outputs)\n",
    "\n",
    "inference_decoder_model = Model(\n",
    "    [decoder_inputs, inference_decoder_state_inputs], \n",
    "    [inference_decoder_outputs, inference_decoder_states]\n",
    ")"
   ]
  },
  {
   "cell_type": "code",
   "execution_count": 19,
   "metadata": {
    "ExecuteTime": {
     "end_time": "2018-05-12T21:42:52.718644Z",
     "start_time": "2018-05-12T21:42:52.714475Z"
    }
   },
   "outputs": [
    {
     "name": "stdout",
     "output_type": "stream",
     "text": [
      "__________________________________________________________________________________________________\n",
      "Layer (type)                    Output Shape         Param #     Connected to                     \n",
      "==================================================================================================\n",
      "encoder_inputs (InputLayer)     (None, 18)           0                                            \n",
      "__________________________________________________________________________________________________\n",
      "decoder_inputs (InputLayer)     (None, 18)           0                                            \n",
      "__________________________________________________________________________________________________\n",
      "input_embedding (Embedding)     (None, 18, 302)      1760358     encoder_inputs[0][0]             \n",
      "__________________________________________________________________________________________________\n",
      "masking_1 (Masking)             (None, 18)           0           decoder_inputs[0][0]             \n",
      "__________________________________________________________________________________________________\n",
      "encoder_bidirectional (Bidirect [(None, 512), (None, 858624      input_embedding[0][0]            \n",
      "__________________________________________________________________________________________________\n",
      "target_embedding (Embedding)    (None, 18, 302)      1620834     masking_1[0][0]                  \n",
      "__________________________________________________________________________________________________\n",
      "concatenate_1 (Concatenate)     (None, 512)          0           encoder_bidirectional[0][1]      \n",
      "                                                                 encoder_bidirectional[0][2]      \n",
      "__________________________________________________________________________________________________\n",
      "decoder_gru (GRU)               [(None, 18, 512), (N 1251840     target_embedding[0][0]           \n",
      "                                                                 concatenate_1[0][0]              \n",
      "__________________________________________________________________________________________________\n",
      "decoder_outputs (Dense)         (None, 18, 5367)     2753271     decoder_gru[0][0]                \n",
      "==================================================================================================\n",
      "Total params: 8,244,927\n",
      "Trainable params: 8,244,927\n",
      "Non-trainable params: 0\n",
      "__________________________________________________________________________________________________\n",
      "__________________________________________________________________________________________________\n",
      "Layer (type)                    Output Shape         Param #     Connected to                     \n",
      "==================================================================================================\n",
      "decoder_inputs (InputLayer)     (None, 18)           0                                            \n",
      "__________________________________________________________________________________________________\n",
      "masking_1 (Masking)             (None, 18)           0           decoder_inputs[0][0]             \n",
      "__________________________________________________________________________________________________\n",
      "target_embedding (Embedding)    (None, 18, 302)      1620834     masking_1[0][0]                  \n",
      "__________________________________________________________________________________________________\n",
      "inference_decoder_state_inputs  (None, 512)          0                                            \n",
      "__________________________________________________________________________________________________\n",
      "decoder_gru (GRU)               [(None, 18, 512), (N 1251840     target_embedding[0][0]           \n",
      "                                                                 inference_decoder_state_inputs[0]\n",
      "__________________________________________________________________________________________________\n",
      "decoder_outputs (Dense)         (None, 18, 5367)     2753271     decoder_gru[1][0]                \n",
      "==================================================================================================\n",
      "Total params: 5,625,945\n",
      "Trainable params: 5,625,945\n",
      "Non-trainable params: 0\n",
      "__________________________________________________________________________________________________\n"
     ]
    }
   ],
   "source": [
    "model.summary()\n",
    "inference_decoder_model.summary()"
   ]
  },
  {
   "cell_type": "code",
   "execution_count": 20,
   "metadata": {
    "ExecuteTime": {
     "end_time": "2018-05-12T21:42:52.753490Z",
     "start_time": "2018-05-12T21:42:52.720252Z"
    }
   },
   "outputs": [],
   "source": [
    "model.compile(optimizer=keras.optimizers.Adam(clipnorm=1., clipvalue=.5), loss='categorical_crossentropy')"
   ]
  },
  {
   "cell_type": "code",
   "execution_count": 21,
   "metadata": {
    "ExecuteTime": {
     "end_time": "2018-05-12T21:52:41.322742Z",
     "start_time": "2018-05-12T21:42:52.754927Z"
    }
   },
   "outputs": [
    {
     "name": "stdout",
     "output_type": "stream",
     "text": [
      "Epoch 1/20\n",
      "242/242 [==============================] - 30s 124ms/step - loss: 3.1804 - val_loss: 2.0234\n",
      "Epoch 2/20\n",
      "242/242 [==============================] - 30s 122ms/step - loss: 1.7768 - val_loss: 1.5750\n",
      "Epoch 3/20\n",
      "242/242 [==============================] - 29s 120ms/step - loss: 1.4246 - val_loss: 1.4055\n",
      "Epoch 4/20\n",
      "242/242 [==============================] - 29s 119ms/step - loss: 1.2046 - val_loss: 1.2782\n",
      "Epoch 5/20\n",
      "242/242 [==============================] - 29s 119ms/step - loss: 1.0459 - val_loss: 1.2289\n",
      "Epoch 6/20\n",
      "242/242 [==============================] - 30s 122ms/step - loss: 0.9164 - val_loss: 1.1790\n",
      "Epoch 7/20\n",
      "242/242 [==============================] - 30s 124ms/step - loss: 0.8110 - val_loss: 1.1557\n",
      "Epoch 8/20\n",
      "242/242 [==============================] - 29s 120ms/step - loss: 0.7201 - val_loss: 1.1257\n",
      "Epoch 9/20\n",
      "242/242 [==============================] - 29s 120ms/step - loss: 0.6431 - val_loss: 1.1302\n",
      "Epoch 10/20\n",
      "242/242 [==============================] - 29s 120ms/step - loss: 0.5756 - val_loss: 1.1370\n",
      "Epoch 11/20\n",
      "242/242 [==============================] - 29s 120ms/step - loss: 0.5187 - val_loss: 1.1199\n",
      "Epoch 12/20\n",
      "242/242 [==============================] - 29s 120ms/step - loss: 0.4680 - val_loss: 1.1275\n",
      "Epoch 13/20\n",
      "242/242 [==============================] - 29s 120ms/step - loss: 0.4248 - val_loss: 1.1702\n",
      "Epoch 14/20\n",
      "242/242 [==============================] - 29s 120ms/step - loss: 0.3860 - val_loss: 1.1440\n",
      "Epoch 15/20\n",
      "242/242 [==============================] - 29s 120ms/step - loss: 0.3529 - val_loss: 1.1508\n",
      "Epoch 16/20\n",
      "242/242 [==============================] - 29s 120ms/step - loss: 0.3253 - val_loss: 1.1708\n",
      "Epoch 17/20\n",
      "242/242 [==============================] - 30s 123ms/step - loss: 0.2995 - val_loss: 1.2095\n",
      "Epoch 18/20\n",
      "242/242 [==============================] - 30s 126ms/step - loss: 0.2782 - val_loss: 1.2061\n",
      "Epoch 19/20\n",
      "242/242 [==============================] - 30s 124ms/step - loss: 0.2583 - val_loss: 1.2021\n",
      "Epoch 20/20\n",
      "242/242 [==============================] - 29s 120ms/step - loss: 0.2425 - val_loss: 1.2317\n"
     ]
    },
    {
     "data": {
      "text/plain": [
       "<keras.callbacks.History at 0x7f83755b95f8>"
      ]
     },
     "execution_count": 21,
     "metadata": {},
     "output_type": "execute_result"
    }
   ],
   "source": [
    "train_generator = create_batch_generator(train_ids)\n",
    "val_generator = create_batch_generator(val_ids)\n",
    "model.fit_generator(\n",
    "    train_generator,\n",
    "    steps_per_epoch=np.ceil(len(train_ids) / BATCH_SIZE),\n",
    "    epochs=20,\n",
    "    validation_data=val_generator,\n",
    "    validation_steps=np.ceil(len(val_ids) / BATCH_SIZE),\n",
    ")\n",
    "#model.fit([X, x_t_input], y_t_output, validation_split=0.1, epochs=EPOCHS, batch_size=BATCH_SIZE)"
   ]
  },
  {
   "cell_type": "code",
   "execution_count": 22,
   "metadata": {
    "ExecuteTime": {
     "end_time": "2018-05-12T21:52:41.337259Z",
     "start_time": "2018-05-12T21:52:41.326730Z"
    }
   },
   "outputs": [],
   "source": [
    "def decode_sequence(input_seq):\n",
    "    states_value = inference_encoder_model.predict(input_seq)\n",
    "    \n",
    "    # tokens = {idx: token for (token, idx) in tokenizer.word_index.items()}\n",
    "    tokens = {idx: token for (token, idx) in target_wordvec_index.items()}\n",
    "    start_token_idx = target_wordvec_index['<s>']\n",
    "    end_token_idx = target_wordvec_index['</s>']\n",
    "    \n",
    "    target_seq = np.zeros((1, max_len_target-1))\n",
    "    target_seq[0, 0] = start_token_idx\n",
    "    \n",
    "    decoded_sequence = [] \n",
    "    for i in range(max_len_target):\n",
    "        output_tokens, output_states = inference_decoder_model.predict(\n",
    "            [target_seq, states_value]\n",
    "        )\n",
    "        \n",
    "        # greedy search\n",
    "        sampled_token_idx = np.argmax(output_tokens[0, 0, :])\n",
    "        if sampled_token_idx == end_token_idx:\n",
    "            break\n",
    "        sampled_token = tokens.get(sampled_token_idx, '~')\n",
    "        decoded_sequence.append(sampled_token)\n",
    "            \n",
    "        target_seq[0, 0] = sampled_token_idx\n",
    "        states_value = output_states\n",
    "    \n",
    "    return sp_target.DecodePieces(decoded_sequence)"
   ]
  },
  {
   "cell_type": "code",
   "execution_count": 23,
   "metadata": {
    "ExecuteTime": {
     "end_time": "2018-05-12T21:52:41.345081Z",
     "start_time": "2018-05-12T21:52:41.339462Z"
    }
   },
   "outputs": [],
   "source": [
    "def predict(sentence):\n",
    "    # print(sentence),\n",
    "    # print(preprocess(sentence))\n",
    "    # print(subword_indices(preprocess(sentence)))\n",
    "    return decode_sequence(keras.preprocessing.sequence.pad_sequences(\n",
    "        [input_subword_indices(preprocess(sentence))],\n",
    "        padding='post',\n",
    "        maxlen=max_len_input,\n",
    "    ))"
   ]
  },
  {
   "cell_type": "code",
   "execution_count": 24,
   "metadata": {
    "ExecuteTime": {
     "end_time": "2018-05-12T21:52:42.284837Z",
     "start_time": "2018-05-12T21:52:41.346646Z"
    }
   },
   "outputs": [
    {
     "name": "stdout",
     "output_type": "stream",
     "text": [
      "'Hello.\\n' --> 'hallo!'\n",
      "'You are welcome.\\n' --> 'seien sie willkommen.'\n",
      "'How do you do?\\n' --> 'wie soll das tun?'\n",
      "'I hate mondays.\\n' --> 'ich tue mich darüber.'\n",
      "'I am a programmer.\\n' --> 'ich bin ein programm.'\n",
      "'Data is the new oil.\\n' --> 'es geht um neue anonyme.'\n",
      "'It could be worse.\\n' --> 'es könnte sich schenken.'\n",
      "'I am on top of it.\\n' --> 'ich bin alles davon.'\n",
      "'N° Uno\\n' --> '° absurd'\n",
      "'Awesome!\\n' --> 'ein ja!'\n",
      "'Put your feet up!\\n' --> 'schlagen sie ihre auf!'\n",
      "'From the start till the end!\\n' --> 'im zweitens geht um!'\n",
      "'From dusk till dawn.\\n' --> 'tüftig, tüftig.'\n"
     ]
    }
   ],
   "source": [
    "# Performance on some examples:\n",
    "EXAMPLES = [\n",
    "    'Hello.',\n",
    "    'You are welcome.',\n",
    "    'How do you do?',\n",
    "    'I hate mondays.',\n",
    "    'I am a programmer.',\n",
    "    'Data is the new oil.',\n",
    "    'It could be worse.',\n",
    "    \"I am on top of it.\",\n",
    "    \"N° Uno\",\n",
    "    \"Awesome!\",\n",
    "    \"Put your feet up!\",\n",
    "    \"From the start till the end!\",\n",
    "    \"From dusk till dawn.\",\n",
    "]\n",
    "for en in [sentence + '\\n' for sentence in EXAMPLES]:\n",
    "    print(f\"{en!r} --> {predict(en)!r}\")"
   ]
  },
  {
   "cell_type": "code",
   "execution_count": 25,
   "metadata": {
    "ExecuteTime": {
     "end_time": "2018-05-12T21:52:43.124309Z",
     "start_time": "2018-05-12T21:52:42.286399Z"
    }
   },
   "outputs": [
    {
     "name": "stdout",
     "output_type": "stream",
     "text": [
      "Original 'relating to wednesday:', got 'zum mittwoch:', exp: 'zum mittwoch:'\n",
      "Original 'that was the decision.', got 'das war der beschluß.', exp: 'das war der beschluß.'\n",
      "Original 'we have agreed to this.', got 'wir haben uns damit einig.', exp: 'wir haben dem zugestimmt.'\n",
      "Original 'it is not a lot to ask.', got 'es ist kein leichtes unterfangen.', exp: 'das ist nicht zuviel verlangt.'\n",
      "Original 'thank you very much.', got 'vielen dank.', exp: 'vielen dank.'\n",
      "Original 'that did not happen.', got 'das ist nicht geschehen.', exp: 'dazu kam es nicht.'\n",
      "Original 'the debate is closed.', got 'die aussprache ist geschlossen.', exp: 'die aussprache ist geschlossen.'\n",
      "Original 'the debate is closed.', got 'die aussprache ist geschlossen.', exp: 'die aussprache ist geschlossen.'\n",
      "Original 'the debate is closed.', got 'die aussprache ist geschlossen.', exp: 'die aussprache ist geschlossen.'\n",
      "Original 'what is the result?', got 'was ist das resultat?', exp: 'was sind die folgen?'\n",
      "Original 'the debate is closed.', got 'die aussprache ist geschlossen.', exp: 'die aussprache ist geschlossen.'\n",
      "Original 'are there any comments?', got 'gibt es einwände?', exp: 'gibt es einwände?'\n",
      "Original 'thank you very much.', got 'vielen dank.', exp: 'vielen dank!'\n",
      "Original 'with what aim?', got 'zu welchem zweck?', exp: 'zu welchem zweck?'\n",
      "Original 'this is not in question.', got 'das steht außer zweifel.', exp: 'das steht außer zweifel.'\n",
      "Original 'we all agree on this.', got 'wir sind uns hier einig.', exp: 'das sehen wir alle ein.'\n",
      "Original 'why?', got 'warum?', exp: 'wieso?'\n",
      "Original 'no.', got 'nein.', exp: 'nein.'\n",
      "Original 'i do not believe so.', got 'ich glaube nicht.', exp: 'ich glaube nicht daran.'\n"
     ]
    }
   ],
   "source": [
    "# Performance on training set:\n",
    "for en, de in df[['input_texts', 'target_texts']][1:20].values.tolist():\n",
    "    print(f\"Original {en!r}, got {predict(en)!r}, exp: {de!r}\")"
   ]
  },
  {
   "cell_type": "code",
   "execution_count": 26,
   "metadata": {
    "ExecuteTime": {
     "end_time": "2018-05-12T21:52:43.876588Z",
     "start_time": "2018-05-12T21:52:43.125733Z"
    }
   },
   "outputs": [
    {
     "name": "stdout",
     "output_type": "stream",
     "text": [
      "Original 'how wrong we were!', got 'doch man tun wir alles!', exp: 'aber da waren wir auf dem holzweg!'\n",
      "Original 'the debate is closed.', got 'die aussprache ist geschlossen.', exp: 'die aussprache ist geschlossen.'\n",
      "Original 'why?', got 'warum?', exp: 'und warum?'\n",
      "Original 'that takes courage.', got 'dies muss der sachten.', exp: 'das erfordert mut.'\n",
      "Original '- newton dunn report', got '- bericht: gierek', exp: '- bericht: newton dunn'\n",
      "Original 'the results?', got 'die grund?', exp: 'das ergebnis?'\n",
      "Original 'why?', got 'warum?', exp: 'warum?'\n",
      "Original 'votes', got 'abstimmungen', exp: 'abstimmungen'\n",
      "Original 'why is that?', got 'warum?', exp: 'warum?'\n",
      "Original '- before the vote', got '- vor der abstimmung', exp: '- vor der abstimmung'\n",
      "Original 'closure of sitting', got 'schluss der sitzung', exp: 'schluss der sitzung'\n",
      "Original 'cuba', got 'kuba', exp: 'kuba'\n",
      "Original 'is the council involved?', got 'ist das der rat?', exp: 'war der rat eingebunden?'\n",
      "Original 'that concludes the vote.', got 'damit ist die abstimmung beendet.', exp: '– die abstimmung ist geschlossen.'\n",
      "Original 'fine!', got 'okay!', exp: 'einverstanden!'\n",
      "Original '(applause)', got '(beifall)', exp: '(beifall)'\n",
      "Original 'what do we say to that?', got 'was meinen wir damit?', exp: 'was ist unsere antwort?'\n",
      "Original 'the debate is closed.', got 'die aussprache ist geschlossen.', exp: 'die aussprache ist geschlossen.'\n",
      "Original 'why?', got 'warum?', exp: 'warum?'\n"
     ]
    }
   ],
   "source": [
    "# Performance on validation set\n",
    "val_df = df.iloc[val_ids]\n",
    "for en, de in val_df[['input_texts', 'target_texts']][1:20].values.tolist():\n",
    "    print(f\"Original {en!r}, got {predict(en)!r}, exp: {de!r}\")"
   ]
  },
  {
   "cell_type": "code",
   "execution_count": 27,
   "metadata": {
    "ExecuteTime": {
     "end_time": "2018-05-12T21:53:07.790088Z",
     "start_time": "2018-05-12T21:52:43.877972Z"
    }
   },
   "outputs": [
    {
     "data": {
      "application/vnd.jupyter.widget-view+json": {
       "model_id": "430b01ff81e14a6b933a7f8c24c83fd7",
       "version_major": 2,
       "version_minor": 0
      },
      "text/plain": [
       "HBox(children=(IntProgress(value=0, max=500), HTML(value='')))"
      ]
     },
     "metadata": {},
     "output_type": "display_data"
    },
    {
     "name": "stdout",
     "output_type": "stream",
     "text": [
      "\n",
      "Average bleu score: 0.6120515251900658\n"
     ]
    }
   ],
   "source": [
    "import spacy\n",
    "try:\n",
    "    from spacy.lang.de import German\n",
    "except ModuleNotFoundError:\n",
    "    spacy.cli.download('de')\n",
    "    from spacy.lang.de import German\n",
    "from nltk.translate.bleu_score import sentence_bleu, SmoothingFunction\n",
    "\n",
    "parser = German()\n",
    "chencherry = SmoothingFunction()  # to handle short sequences, see also http://www.nltk.org/_modules/nltk/translate/bleu_score.html#SmoothingFunction.method3\n",
    "\n",
    "def remove_spaces_and_puncts(tokens):\n",
    "     return [token.orth_ for token in tokens if not (token.is_space or token.is_punct)]  \n",
    "\n",
    "bleu_scores = np.zeros(TEST_SIZE)\n",
    "nist_scores = np.zeros(TEST_SIZE)\n",
    "\n",
    "for i in tqdm(range(TEST_SIZE)):\n",
    "    pred_tokens = remove_spaces_and_puncts(parser(predict(df.iloc[i].input_texts)))\n",
    "    ref_tokens = remove_spaces_and_puncts(parser(df.iloc[i].target_texts))\n",
    "    bleu_scores[i] = sentence_bleu([ref_tokens], pred_tokens, smoothing_function=chencherry.method3)\n",
    "    \n",
    "print(\"Average bleu score:\", bleu_scores.mean())"
   ]
  },
  {
   "cell_type": "code",
   "execution_count": 28,
   "metadata": {
    "ExecuteTime": {
     "end_time": "2018-05-12T21:53:07.793696Z",
     "start_time": "2018-05-12T21:53:07.791532Z"
    }
   },
   "outputs": [],
   "source": [
    "## Conclusion\n",
    "\n",
    "# It doesn't work perfect, but fine enough to show that seq2seq works in some way. I wouldn't be surprised if the mean average error is better than average human bias for calculating without any tools.\n",
    "# For improvements and further discussions I'll move to a real problem (translating) and main steps will be:\n",
    "# * Bytepairencoding/Word embeddings\n",
    "# * Beam Search\n",
    "# * Attention models"
   ]
  }
 ],
 "metadata": {
  "kernelspec": {
   "display_name": "Python 3",
   "language": "python",
   "name": "python3"
  },
  "language_info": {
   "codemirror_mode": {
    "name": "ipython",
    "version": 3
   },
   "file_extension": ".py",
   "mimetype": "text/x-python",
   "name": "python",
   "nbconvert_exporter": "python",
   "pygments_lexer": "ipython3",
   "version": "3.6.3"
  },
  "varInspector": {
   "cols": {
    "lenName": 16,
    "lenType": 16,
    "lenVar": 40
   },
   "kernels_config": {
    "python": {
     "delete_cmd_postfix": "",
     "delete_cmd_prefix": "del ",
     "library": "var_list.py",
     "varRefreshCmd": "print(var_dic_list())"
    },
    "r": {
     "delete_cmd_postfix": ") ",
     "delete_cmd_prefix": "rm(",
     "library": "var_list.r",
     "varRefreshCmd": "cat(var_dic_list()) "
    }
   },
   "oldHeight": 301,
   "position": {
    "height": "40px",
    "left": "987px",
    "right": "23px",
    "top": "124px",
    "width": "350px"
   },
   "types_to_exclude": [
    "module",
    "function",
    "builtin_function_or_method",
    "instance",
    "_Feature"
   ],
   "varInspector_section_display": "none",
   "window_display": true
  }
 },
 "nbformat": 4,
 "nbformat_minor": 2
}
