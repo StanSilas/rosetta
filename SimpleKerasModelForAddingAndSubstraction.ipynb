{
 "cells": [
  {
   "cell_type": "code",
   "execution_count": 3,
   "metadata": {
    "ExecuteTime": {
     "end_time": "2018-05-01T13:00:05.761993Z",
     "start_time": "2018-05-01T13:00:05.759071Z"
    }
   },
   "outputs": [],
   "source": [
    "import pandas as pd\n",
    "import numpy as np\n",
    "\n",
    "np.random.seed(0)"
   ]
  },
  {
   "cell_type": "code",
   "execution_count": 89,
   "metadata": {
    "ExecuteTime": {
     "end_time": "2018-05-01T13:33:27.695175Z",
     "start_time": "2018-05-01T13:33:27.690692Z"
    }
   },
   "outputs": [],
   "source": [
    "def create_equations_df(size, min_value=0, max_value=9999, operations={'+': np.add, '-': np.subtract}):\n",
    "    df = pd.DataFrame()\n",
    "    df['a'] = np.random.randint(low=min_value, high=max_value, size=size)\n",
    "    df['b'] = np.random.randint(low=min_value, high=max_value, size=size)\n",
    "    df['op'] = np.random.choice(list(operations.keys()), size)\n",
    "    df['result'] = np.zeros(size, dtype='int')\n",
    "    for symbol, calc in operations.items():\n",
    "        df.loc[df.op == symbol, 'result'] = calc(df[df.op == symbol]['a'], df[df.op == symbol]['b'])\n",
    "        \n",
    "    df['input'] = df.a.astype(str) + df.op + df.b.astype(str)\n",
    "    df['target'] = df.result.astype(str)\n",
    "    return df"
   ]
  },
  {
   "cell_type": "code",
   "execution_count": 90,
   "metadata": {
    "ExecuteTime": {
     "end_time": "2018-05-01T13:33:28.066678Z",
     "start_time": "2018-05-01T13:33:28.026901Z"
    }
   },
   "outputs": [
    {
     "data": {
      "text/html": [
       "<div>\n",
       "<style scoped>\n",
       "    .dataframe tbody tr th:only-of-type {\n",
       "        vertical-align: middle;\n",
       "    }\n",
       "\n",
       "    .dataframe tbody tr th {\n",
       "        vertical-align: top;\n",
       "    }\n",
       "\n",
       "    .dataframe thead th {\n",
       "        text-align: right;\n",
       "    }\n",
       "</style>\n",
       "<table border=\"1\" class=\"dataframe\">\n",
       "  <thead>\n",
       "    <tr style=\"text-align: right;\">\n",
       "      <th></th>\n",
       "      <th>a</th>\n",
       "      <th>b</th>\n",
       "      <th>op</th>\n",
       "      <th>result</th>\n",
       "      <th>input</th>\n",
       "      <th>target</th>\n",
       "    </tr>\n",
       "  </thead>\n",
       "  <tbody>\n",
       "    <tr>\n",
       "      <th>0</th>\n",
       "      <td>5015</td>\n",
       "      <td>5620</td>\n",
       "      <td>-</td>\n",
       "      <td>-605</td>\n",
       "      <td>5015-5620</td>\n",
       "      <td>-605</td>\n",
       "    </tr>\n",
       "    <tr>\n",
       "      <th>1</th>\n",
       "      <td>324</td>\n",
       "      <td>9833</td>\n",
       "      <td>+</td>\n",
       "      <td>10157</td>\n",
       "      <td>324+9833</td>\n",
       "      <td>10157</td>\n",
       "    </tr>\n",
       "    <tr>\n",
       "      <th>2</th>\n",
       "      <td>5535</td>\n",
       "      <td>9040</td>\n",
       "      <td>-</td>\n",
       "      <td>-3505</td>\n",
       "      <td>5535-9040</td>\n",
       "      <td>-3505</td>\n",
       "    </tr>\n",
       "    <tr>\n",
       "      <th>3</th>\n",
       "      <td>8854</td>\n",
       "      <td>1731</td>\n",
       "      <td>-</td>\n",
       "      <td>7123</td>\n",
       "      <td>8854-1731</td>\n",
       "      <td>7123</td>\n",
       "    </tr>\n",
       "    <tr>\n",
       "      <th>4</th>\n",
       "      <td>7232</td>\n",
       "      <td>1360</td>\n",
       "      <td>+</td>\n",
       "      <td>8592</td>\n",
       "      <td>7232+1360</td>\n",
       "      <td>8592</td>\n",
       "    </tr>\n",
       "    <tr>\n",
       "      <th>5</th>\n",
       "      <td>7909</td>\n",
       "      <td>5440</td>\n",
       "      <td>-</td>\n",
       "      <td>2469</td>\n",
       "      <td>7909-5440</td>\n",
       "      <td>2469</td>\n",
       "    </tr>\n",
       "    <tr>\n",
       "      <th>6</th>\n",
       "      <td>79</td>\n",
       "      <td>9345</td>\n",
       "      <td>-</td>\n",
       "      <td>-9266</td>\n",
       "      <td>79-9345</td>\n",
       "      <td>-9266</td>\n",
       "    </tr>\n",
       "    <tr>\n",
       "      <th>7</th>\n",
       "      <td>8275</td>\n",
       "      <td>363</td>\n",
       "      <td>+</td>\n",
       "      <td>8638</td>\n",
       "      <td>8275+363</td>\n",
       "      <td>8638</td>\n",
       "    </tr>\n",
       "    <tr>\n",
       "      <th>8</th>\n",
       "      <td>6927</td>\n",
       "      <td>4562</td>\n",
       "      <td>-</td>\n",
       "      <td>2365</td>\n",
       "      <td>6927-4562</td>\n",
       "      <td>2365</td>\n",
       "    </tr>\n",
       "    <tr>\n",
       "      <th>9</th>\n",
       "      <td>5130</td>\n",
       "      <td>2386</td>\n",
       "      <td>+</td>\n",
       "      <td>7516</td>\n",
       "      <td>5130+2386</td>\n",
       "      <td>7516</td>\n",
       "    </tr>\n",
       "  </tbody>\n",
       "</table>\n",
       "</div>"
      ],
      "text/plain": [
       "      a     b op  result      input target\n",
       "0  5015  5620  -    -605  5015-5620   -605\n",
       "1   324  9833  +   10157   324+9833  10157\n",
       "2  5535  9040  -   -3505  5535-9040  -3505\n",
       "3  8854  1731  -    7123  8854-1731   7123\n",
       "4  7232  1360  +    8592  7232+1360   8592\n",
       "5  7909  5440  -    2469  7909-5440   2469\n",
       "6    79  9345  -   -9266    79-9345  -9266\n",
       "7  8275   363  +    8638   8275+363   8638\n",
       "8  6927  4562  -    2365  6927-4562   2365\n",
       "9  5130  2386  +    7516  5130+2386   7516"
      ]
     },
     "execution_count": 90,
     "metadata": {},
     "output_type": "execute_result"
    }
   ],
   "source": [
    "create_equations_df(10)"
   ]
  },
  {
   "cell_type": "code",
   "execution_count": null,
   "metadata": {},
   "outputs": [],
   "source": []
  }
 ],
 "metadata": {
  "kernelspec": {
   "display_name": "Python 3",
   "language": "python",
   "name": "python3"
  },
  "language_info": {
   "codemirror_mode": {
    "name": "ipython",
    "version": 3
   },
   "file_extension": ".py",
   "mimetype": "text/x-python",
   "name": "python",
   "nbconvert_exporter": "python",
   "pygments_lexer": "ipython3",
   "version": "3.6.3"
  }
 },
 "nbformat": 4,
 "nbformat_minor": 2
}
