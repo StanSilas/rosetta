{
 "cells": [
  {
   "cell_type": "code",
   "execution_count": 1,
   "metadata": {
    "ExecuteTime": {
     "end_time": "2018-05-01T16:13:26.400054Z",
     "start_time": "2018-05-01T16:13:25.166137Z"
    }
   },
   "outputs": [
    {
     "name": "stderr",
     "output_type": "stream",
     "text": [
      "/home/janek/.local/share/virtualenvs/rosetta-WKmHhL03/lib/python3.6/site-packages/h5py/__init__.py:36: FutureWarning: Conversion of the second argument of issubdtype from `float` to `np.floating` is deprecated. In future, it will be treated as `np.float64 == np.dtype(float).type`.\n",
      "  from ._conv import register_converters as _register_converters\n",
      "Using TensorFlow backend.\n"
     ]
    }
   ],
   "source": [
    "import tensorflow as tf\n",
    "from keras.backend.tensorflow_backend import set_session\n",
    "config = tf.ConfigProto()\n",
    "config.gpu_options.per_process_gpu_memory_fraction = 0.5\n",
    "set_session(tf.Session(config=config))"
   ]
  },
  {
   "cell_type": "code",
   "execution_count": 2,
   "metadata": {
    "ExecuteTime": {
     "end_time": "2018-05-01T16:13:26.403854Z",
     "start_time": "2018-05-01T16:13:26.401623Z"
    }
   },
   "outputs": [],
   "source": [
    "import keras\n",
    "import keras.layers as L\n",
    "from keras.models import Model\n",
    "import numpy as np\n",
    "import pandas as pd\n",
    "\n",
    "RANDOM_STATE=42\n",
    "np.random.seed(RANDOM_STATE)"
   ]
  },
  {
   "cell_type": "code",
   "execution_count": 14,
   "metadata": {
    "ExecuteTime": {
     "end_time": "2018-05-01T17:11:59.598821Z",
     "start_time": "2018-05-01T17:11:59.593583Z"
    }
   },
   "outputs": [],
   "source": [
    "START = '^'\n",
    "END = '$'\n",
    "\n",
    "SIZE = 1000\n",
    "LATENT_DIM = 128\n",
    "EMBEDDING_DIM = 32"
   ]
  },
  {
   "cell_type": "code",
   "execution_count": 4,
   "metadata": {
    "ExecuteTime": {
     "end_time": "2018-05-01T16:13:26.425016Z",
     "start_time": "2018-05-01T16:13:26.420423Z"
    }
   },
   "outputs": [],
   "source": [
    "def create_equations_df(size, min_value=0, max_value=9999, operations={'+': np.add, '-': np.subtract}):\n",
    "    df = pd.DataFrame()\n",
    "    df['a'] = np.random.randint(low=min_value, high=max_value, size=size)\n",
    "    df['b'] = np.random.randint(low=min_value, high=max_value, size=size)\n",
    "    df['op'] = np.random.choice(list(operations.keys()), size)\n",
    "    df['result'] = np.zeros(size, dtype='int')\n",
    "    for symbol, calc in operations.items():\n",
    "        df.loc[df.op == symbol, 'result'] = calc(df[df.op == symbol]['a'], df[df.op == symbol]['b'])\n",
    "        \n",
    "    df['input_texts'] = START + df.a.astype(str) + df.op + df.b.astype(str) + END\n",
    "    df['target_texts'] = START + df.result.astype(str) + END\n",
    "    return df"
   ]
  },
  {
   "cell_type": "code",
   "execution_count": 5,
   "metadata": {
    "ExecuteTime": {
     "end_time": "2018-05-01T16:13:26.686465Z",
     "start_time": "2018-05-01T16:13:26.426524Z"
    }
   },
   "outputs": [],
   "source": [
    "df = create_equations_df(SIZE)"
   ]
  },
  {
   "cell_type": "code",
   "execution_count": 6,
   "metadata": {
    "ExecuteTime": {
     "end_time": "2018-05-01T16:13:26.693985Z",
     "start_time": "2018-05-01T16:13:26.688489Z"
    }
   },
   "outputs": [],
   "source": [
    "corpus = pd.concat([df.input_texts, df.target_texts])"
   ]
  },
  {
   "cell_type": "code",
   "execution_count": 7,
   "metadata": {
    "ExecuteTime": {
     "end_time": "2018-05-01T16:13:27.759626Z",
     "start_time": "2018-05-01T16:13:26.695572Z"
    }
   },
   "outputs": [],
   "source": [
    "tokenizer = keras.preprocessing.text.Tokenizer(num_words=None, filters=None, char_level=True)\n",
    "tokenizer.fit_on_texts(corpus)\n",
    "df['input_sequences'] = tokenizer.texts_to_sequences(df.input_texts)\n",
    "df['target_sequences'] = tokenizer.texts_to_sequences(df.target_texts)"
   ]
  },
  {
   "cell_type": "code",
   "execution_count": 8,
   "metadata": {
    "ExecuteTime": {
     "end_time": "2018-05-01T16:13:28.147849Z",
     "start_time": "2018-05-01T16:13:27.761159Z"
    }
   },
   "outputs": [],
   "source": [
    "X = keras.preprocessing.sequence.pad_sequences(df.input_sequences, padding='post').astype(np.float32)\n",
    "# y = keras.preprocessing.sequence.pad_sequences(df.target_sequences)\n",
    "y = df.result.astype(np.float32)"
   ]
  },
  {
   "cell_type": "code",
   "execution_count": 41,
   "metadata": {
    "ExecuteTime": {
     "end_time": "2018-05-01T17:29:48.403352Z",
     "start_time": "2018-05-01T17:29:48.211360Z"
    }
   },
   "outputs": [
    {
     "name": "stdout",
     "output_type": "stream",
     "text": [
      "_________________________________________________________________\n",
      "Layer (type)                 Output Shape              Param #   \n",
      "=================================================================\n",
      "encoder_inputs (InputLayer)  (None, 11)                0         \n",
      "_________________________________________________________________\n",
      "embedding (Embedding)        (None, 11, 32)            448       \n",
      "_________________________________________________________________\n",
      "encoder_gru (GRU)            [(None, 128), (None, 128) 61824     \n",
      "_________________________________________________________________\n",
      "dense (Dense)                (None, 1)                 129       \n",
      "=================================================================\n",
      "Total params: 62,401\n",
      "Trainable params: 62,401\n",
      "Non-trainable params: 0\n",
      "_________________________________________________________________\n"
     ]
    }
   ],
   "source": [
    "max_len = X.shape[1]\n",
    "encoder_inputs = L.Input(shape=(max_len, ), dtype='float32', name='encoder_inputs')\n",
    "embedding = L.Embedding(len(tokenizer.word_index), EMBEDDING_DIM, name='embedding')(encoder_inputs)\n",
    "encoder_outputs, encoder_states = L.GRU(LATENT_DIM, return_state=True, name='encoder_gru')(embedding)\n",
    "dense = L.Dense(1, activation='relu', name='dense')(encoder_states)\n",
    "\n",
    "model = Model(inputs=encoder_inputs, outputs=dense)\n",
    "model.summary()"
   ]
  },
  {
   "cell_type": "code",
   "execution_count": 42,
   "metadata": {
    "ExecuteTime": {
     "end_time": "2018-05-01T17:29:50.816943Z",
     "start_time": "2018-05-01T17:29:50.785984Z"
    }
   },
   "outputs": [],
   "source": [
    "model.compile(optimizer='adam', loss='mean_squared_error')"
   ]
  },
  {
   "cell_type": "code",
   "execution_count": null,
   "metadata": {
    "ExecuteTime": {
     "start_time": "2018-05-01T17:29:51.450Z"
    }
   },
   "outputs": [
    {
     "name": "stdout",
     "output_type": "stream",
     "text": [
      "Train on 80000 samples, validate on 20000 samples\n",
      "Epoch 1/10\n",
      "80000/80000 [==============================] - 22s 273us/step - loss: 65137532.0488 - val_loss: 63996375.2576\n",
      "Epoch 2/10\n",
      "80000/80000 [==============================] - 21s 267us/step - loss: 62232438.6248 - val_loss: 61228798.6656\n",
      "Epoch 3/10\n",
      "80000/80000 [==============================] - 21s 267us/step - loss: 59547733.1936 - val_loss: 58659887.1488\n",
      "Epoch 4/10\n",
      "80000/80000 [==============================] - 22s 275us/step - loss: 57079859.8016 - val_loss: 56305903.0720\n",
      "Epoch 5/10\n",
      "80000/80000 [==============================] - 22s 271us/step - loss: 54805000.7192 - val_loss: 54143027.5616\n",
      "Epoch 6/10\n",
      "80000/80000 [==============================] - 23s 285us/step - loss: 52723719.9040 - val_loss: 52171149.6064\n",
      "Epoch 7/10\n",
      "80000/80000 [==============================] - 23s 285us/step - loss: 50843493.9968 - val_loss: 50402347.0976\n",
      "Epoch 8/10\n",
      "80000/80000 [==============================] - 22s 273us/step - loss: 49161389.9344 - val_loss: 48831433.6320\n",
      "Epoch 9/10\n",
      "80000/80000 [==============================] - 23s 283us/step - loss: 47669564.5528 - val_loss: 47447230.0800\n",
      "Epoch 10/10\n",
      "79872/80000 [============================>.] - ETA: 0s - loss: 46380929.1338"
     ]
    }
   ],
   "source": [
    "model.fit(X, y, validation_split=0.2, epochs=10, random_state=RANDOM_STATE)"
   ]
  },
  {
   "cell_type": "code",
   "execution_count": 37,
   "metadata": {
    "ExecuteTime": {
     "end_time": "2018-05-01T17:18:45.662412Z",
     "start_time": "2018-05-01T17:18:45.625532Z"
    }
   },
   "outputs": [
    {
     "data": {
      "text/plain": [
       "array([[1957.2666]], dtype=float32)"
      ]
     },
     "execution_count": 37,
     "metadata": {},
     "output_type": "execute_result"
    }
   ],
   "source": [
    "model.predict(keras.preprocessing.sequence.pad_sequences(tokenizer.texts_to_sequences(['^360+120$']), padding='post', maxlen=X.shape[1]))"
   ]
  },
  {
   "cell_type": "code",
   "execution_count": null,
   "metadata": {},
   "outputs": [],
   "source": []
  }
 ],
 "metadata": {
  "kernelspec": {
   "display_name": "Python 3",
   "language": "python",
   "name": "python3"
  },
  "language_info": {
   "codemirror_mode": {
    "name": "ipython",
    "version": 3
   },
   "file_extension": ".py",
   "mimetype": "text/x-python",
   "name": "python",
   "nbconvert_exporter": "python",
   "pygments_lexer": "ipython3",
   "version": "3.6.3"
  }
 },
 "nbformat": 4,
 "nbformat_minor": 2
}
