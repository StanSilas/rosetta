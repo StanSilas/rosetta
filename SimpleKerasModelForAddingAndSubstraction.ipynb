{
 "cells": [
  {
   "cell_type": "code",
   "execution_count": 1,
   "metadata": {
    "ExecuteTime": {
     "end_time": "2018-05-01T16:13:26.400054Z",
     "start_time": "2018-05-01T16:13:25.166137Z"
    }
   },
   "outputs": [
    {
     "name": "stderr",
     "output_type": "stream",
     "text": [
      "/home/janek/.local/share/virtualenvs/rosetta-WKmHhL03/lib/python3.6/site-packages/h5py/__init__.py:36: FutureWarning: Conversion of the second argument of issubdtype from `float` to `np.floating` is deprecated. In future, it will be treated as `np.float64 == np.dtype(float).type`.\n",
      "  from ._conv import register_converters as _register_converters\n",
      "Using TensorFlow backend.\n"
     ]
    }
   ],
   "source": [
    "import tensorflow as tf\n",
    "from keras.backend.tensorflow_backend import set_session\n",
    "config = tf.ConfigProto()\n",
    "config.gpu_options.per_process_gpu_memory_fraction = 0.5\n",
    "set_session(tf.Session(config=config))"
   ]
  },
  {
   "cell_type": "code",
   "execution_count": 2,
   "metadata": {
    "ExecuteTime": {
     "end_time": "2018-05-01T16:13:26.403854Z",
     "start_time": "2018-05-01T16:13:26.401623Z"
    }
   },
   "outputs": [],
   "source": [
    "import keras\n",
    "import keras.layers as L\n",
    "from keras.models import Model\n",
    "import numpy as np\n",
    "import pandas as pd\n",
    "\n",
    "np.random.seed(0)"
   ]
  },
  {
   "cell_type": "code",
   "execution_count": 3,
   "metadata": {
    "ExecuteTime": {
     "end_time": "2018-05-01T16:13:26.418612Z",
     "start_time": "2018-05-01T16:13:26.405302Z"
    }
   },
   "outputs": [],
   "source": [
    "START = '^'\n",
    "END = '$'\n",
    "\n",
    "SIZE = 100_000\n",
    "LATENT_DIM = 128\n",
    "EMBEDDING_DIM = 32"
   ]
  },
  {
   "cell_type": "code",
   "execution_count": 4,
   "metadata": {
    "ExecuteTime": {
     "end_time": "2018-05-01T16:13:26.425016Z",
     "start_time": "2018-05-01T16:13:26.420423Z"
    }
   },
   "outputs": [],
   "source": [
    "def create_equations_df(size, min_value=0, max_value=9999, operations={'+': np.add, '-': np.subtract}):\n",
    "    df = pd.DataFrame()\n",
    "    df['a'] = np.random.randint(low=min_value, high=max_value, size=size)\n",
    "    df['b'] = np.random.randint(low=min_value, high=max_value, size=size)\n",
    "    df['op'] = np.random.choice(list(operations.keys()), size)\n",
    "    df['result'] = np.zeros(size, dtype='int')\n",
    "    for symbol, calc in operations.items():\n",
    "        df.loc[df.op == symbol, 'result'] = calc(df[df.op == symbol]['a'], df[df.op == symbol]['b'])\n",
    "        \n",
    "    df['input_texts'] = START + df.a.astype(str) + df.op + df.b.astype(str) + END\n",
    "    df['target_texts'] = START + df.result.astype(str) + END\n",
    "    return df"
   ]
  },
  {
   "cell_type": "code",
   "execution_count": 5,
   "metadata": {
    "ExecuteTime": {
     "end_time": "2018-05-01T16:13:26.686465Z",
     "start_time": "2018-05-01T16:13:26.426524Z"
    }
   },
   "outputs": [],
   "source": [
    "df = create_equations_df(SIZE)"
   ]
  },
  {
   "cell_type": "code",
   "execution_count": 6,
   "metadata": {
    "ExecuteTime": {
     "end_time": "2018-05-01T16:13:26.693985Z",
     "start_time": "2018-05-01T16:13:26.688489Z"
    }
   },
   "outputs": [],
   "source": [
    "corpus = pd.concat([df.input_texts, df.target_texts])"
   ]
  },
  {
   "cell_type": "code",
   "execution_count": 7,
   "metadata": {
    "ExecuteTime": {
     "end_time": "2018-05-01T16:13:27.759626Z",
     "start_time": "2018-05-01T16:13:26.695572Z"
    }
   },
   "outputs": [],
   "source": [
    "tokenizer = keras.preprocessing.text.Tokenizer(num_words=None, filters=None, char_level=True)\n",
    "tokenizer.fit_on_texts(corpus)\n",
    "df['input_sequences'] = tokenizer.texts_to_sequences(df.input_texts)\n",
    "df['target_sequences'] = tokenizer.texts_to_sequences(df.target_texts)"
   ]
  },
  {
   "cell_type": "code",
   "execution_count": 8,
   "metadata": {
    "ExecuteTime": {
     "end_time": "2018-05-01T16:13:28.147849Z",
     "start_time": "2018-05-01T16:13:27.761159Z"
    }
   },
   "outputs": [],
   "source": [
    "X = keras.preprocessing.sequence.pad_sequences(df.input_sequences, padding='post').astype(np.float32)\n",
    "# y = keras.preprocessing.sequence.pad_sequences(df.target_sequences)\n",
    "y = df.result.astype(np.float32)"
   ]
  },
  {
   "cell_type": "code",
   "execution_count": 9,
   "metadata": {
    "ExecuteTime": {
     "end_time": "2018-05-01T16:13:28.162741Z",
     "start_time": "2018-05-01T16:13:28.149201Z"
    }
   },
   "outputs": [
    {
     "name": "stdout",
     "output_type": "stream",
     "text": [
      "_________________________________________________________________\n",
      "Layer (type)                 Output Shape              Param #   \n",
      "=================================================================\n",
      "input_1 (InputLayer)         (None, 11)                0         \n",
      "_________________________________________________________________\n",
      "dense_1 (Dense)              (None, 1)                 12        \n",
      "=================================================================\n",
      "Total params: 12\n",
      "Trainable params: 12\n",
      "Non-trainable params: 0\n",
      "_________________________________________________________________\n"
     ]
    }
   ],
   "source": [
    "encoder_inputs = L.Input(shape=(X.shape[1], ), dtype='float32')\n",
    "#embedding = L.Embedding(len(tokenizer.word_index), EMBEDDING_DIM)(encoder_inputs)\n",
    "dense = L.Dense(1, activation='relu')(encoder_inputs) #(embedding)\n",
    "\n",
    "model = Model(inputs=encoder_inputs, outputs=dense)\n",
    "model.summary()"
   ]
  },
  {
   "cell_type": "code",
   "execution_count": 10,
   "metadata": {
    "ExecuteTime": {
     "end_time": "2018-05-01T16:13:28.189002Z",
     "start_time": "2018-05-01T16:13:28.164339Z"
    }
   },
   "outputs": [],
   "source": [
    "model.compile(optimizer='adam', loss='mean_squared_error')"
   ]
  },
  {
   "cell_type": "code",
   "execution_count": 11,
   "metadata": {
    "ExecuteTime": {
     "end_time": "2018-05-01T16:16:24.039165Z",
     "start_time": "2018-05-01T16:13:28.190466Z"
    }
   },
   "outputs": [
    {
     "name": "stdout",
     "output_type": "stream",
     "text": [
      "Train on 80000 samples, validate on 20000 samples\n",
      "Epoch 1/50\n",
      "80000/80000 [==============================] - 4s 49us/step - loss: 65778341.6776 - val_loss: 65221600.7680\n",
      "Epoch 2/50\n",
      "80000/80000 [==============================] - 3s 41us/step - loss: 63981617.9400 - val_loss: 63472755.2288\n",
      "Epoch 3/50\n",
      "80000/80000 [==============================] - 3s 40us/step - loss: 62258186.5376 - val_loss: 61794575.7408\n",
      "Epoch 4/50\n",
      "80000/80000 [==============================] - 3s 42us/step - loss: 60603751.2272 - val_loss: 60185226.5024\n",
      "Epoch 5/50\n",
      "80000/80000 [==============================] - 3s 42us/step - loss: 59022104.9264 - val_loss: 58649351.2800\n",
      "Epoch 6/50\n",
      "80000/80000 [==============================] - 3s 40us/step - loss: 57511993.2568 - val_loss: 57183128.3488\n",
      "Epoch 7/50\n",
      "80000/80000 [==============================] - 3s 41us/step - loss: 56068211.1264 - val_loss: 55782570.3616\n",
      "Epoch 8/50\n",
      "80000/80000 [==============================] - 3s 41us/step - loss: 54690706.8000 - val_loss: 54446054.1856\n",
      "Epoch 9/50\n",
      "80000/80000 [==============================] - 3s 41us/step - loss: 53380469.5736 - val_loss: 53181452.3904\n",
      "Epoch 10/50\n",
      "80000/80000 [==============================] - 3s 42us/step - loss: 52143446.8720 - val_loss: 51984720.6848\n",
      "Epoch 11/50\n",
      "80000/80000 [==============================] - 3s 42us/step - loss: 50968936.5560 - val_loss: 50852714.6976\n",
      "Epoch 12/50\n",
      "80000/80000 [==============================] - 3s 40us/step - loss: 49866177.9984 - val_loss: 49792569.6480\n",
      "Epoch 13/50\n",
      "80000/80000 [==============================] - 3s 43us/step - loss: 48829747.1736 - val_loss: 48795567.2128\n",
      "Epoch 14/50\n",
      "80000/80000 [==============================] - 3s 42us/step - loss: 47860441.5864 - val_loss: 47869323.6704\n",
      "Epoch 15/50\n",
      "80000/80000 [==============================] - 3s 41us/step - loss: 46957353.4856 - val_loss: 47003929.9776\n",
      "Epoch 16/50\n",
      "80000/80000 [==============================] - 3s 43us/step - loss: 46118917.2840 - val_loss: 46206040.0288\n",
      "Epoch 17/50\n",
      "80000/80000 [==============================] - 3s 43us/step - loss: 45346419.4568 - val_loss: 45473435.7248\n",
      "Epoch 18/50\n",
      "80000/80000 [==============================] - 3s 40us/step - loss: 44637645.0320 - val_loss: 44800198.4896\n",
      "Epoch 19/50\n",
      "80000/80000 [==============================] - 3s 42us/step - loss: 43989428.0968 - val_loss: 44189358.9056\n",
      "Epoch 20/50\n",
      "80000/80000 [==============================] - 3s 42us/step - loss: 43404851.0336 - val_loss: 43642818.5664\n",
      "Epoch 21/50\n",
      "80000/80000 [==============================] - 3s 41us/step - loss: 42880175.6320 - val_loss: 43151154.7712\n",
      "Epoch 22/50\n",
      "80000/80000 [==============================] - 4s 48us/step - loss: 42415019.2240 - val_loss: 42719778.1184\n",
      "Epoch 23/50\n",
      "80000/80000 [==============================] - 4s 53us/step - loss: 42002882.6872 - val_loss: 42338445.2096\n",
      "Epoch 24/50\n",
      "80000/80000 [==============================] - 4s 54us/step - loss: 41643958.0704 - val_loss: 42009990.7872\n",
      "Epoch 25/50\n",
      "80000/80000 [==============================] - 4s 48us/step - loss: 41335938.8872 - val_loss: 41730312.9952\n",
      "Epoch 26/50\n",
      "80000/80000 [==============================] - 4s 52us/step - loss: 41076577.7064 - val_loss: 41495661.0848\n",
      "Epoch 27/50\n",
      "80000/80000 [==============================] - 4s 44us/step - loss: 40853942.4528 - val_loss: 41292635.0400\n",
      "Epoch 28/50\n",
      "80000/80000 [==============================] - 3s 42us/step - loss: 40667154.2568 - val_loss: 41126774.1920\n",
      "Epoch 29/50\n",
      "80000/80000 [==============================] - 3s 42us/step - loss: 40513861.1704 - val_loss: 40990349.6000\n",
      "Epoch 30/50\n",
      "80000/80000 [==============================] - 3s 41us/step - loss: 40387964.9400 - val_loss: 40877924.7392\n",
      "Epoch 31/50\n",
      "80000/80000 [==============================] - 4s 45us/step - loss: 40283067.7296 - val_loss: 40783802.3264\n",
      "Epoch 32/50\n",
      "80000/80000 [==============================] - 4s 47us/step - loss: 40194905.9264 - val_loss: 40704661.9328\n",
      "Epoch 33/50\n",
      "80000/80000 [==============================] - 3s 42us/step - loss: 40121553.0248 - val_loss: 40639290.7104\n",
      "Epoch 34/50\n",
      "80000/80000 [==============================] - 3s 43us/step - loss: 40060101.2424 - val_loss: 40583323.8048\n",
      "Epoch 35/50\n",
      "80000/80000 [==============================] - 4s 44us/step - loss: 40007290.6840 - val_loss: 40534983.2032\n",
      "Epoch 36/50\n",
      "80000/80000 [==============================] - 3s 40us/step - loss: 39961105.5984 - val_loss: 40492315.0656\n",
      "Epoch 37/50\n",
      "80000/80000 [==============================] - 4s 44us/step - loss: 39920703.7192 - val_loss: 40454707.7824\n",
      "Epoch 38/50\n",
      "80000/80000 [==============================] - 4s 51us/step - loss: 39884250.3672 - val_loss: 40419818.3968\n",
      "Epoch 39/50\n",
      "80000/80000 [==============================] - 3s 43us/step - loss: 39850305.5576 - val_loss: 40387478.4064\n",
      "Epoch 40/50\n",
      "80000/80000 [==============================] - 4s 50us/step - loss: 39818967.2976 - val_loss: 40357166.9696\n",
      "Epoch 41/50\n",
      "80000/80000 [==============================] - 3s 43us/step - loss: 39789389.6676 - val_loss: 40328250.7136\n",
      "Epoch 42/50\n",
      "80000/80000 [==============================] - 4s 49us/step - loss: 39761154.5700 - val_loss: 40300854.6368\n",
      "Epoch 43/50\n",
      "80000/80000 [==============================] - 4s 45us/step - loss: 39734439.2464 - val_loss: 40274321.5072\n",
      "Epoch 44/50\n",
      "80000/80000 [==============================] - 4s 46us/step - loss: 39708372.1208 - val_loss: 40248344.5856\n",
      "Epoch 45/50\n",
      "80000/80000 [==============================] - 4s 44us/step - loss: 39682828.2904 - val_loss: 40222802.1696\n",
      "Epoch 46/50\n",
      "80000/80000 [==============================] - 4s 49us/step - loss: 39657652.4104 - val_loss: 40197582.1056\n",
      "Epoch 47/50\n",
      "80000/80000 [==============================] - 3s 40us/step - loss: 39633089.5124 - val_loss: 40172941.4464\n",
      "Epoch 48/50\n",
      "80000/80000 [==============================] - 3s 43us/step - loss: 39608776.2660 - val_loss: 40148486.9568\n",
      "Epoch 49/50\n",
      "80000/80000 [==============================] - 4s 45us/step - loss: 39584963.7000 - val_loss: 40124464.4160\n",
      "Epoch 50/50\n",
      "80000/80000 [==============================] - 3s 42us/step - loss: 39561293.7760 - val_loss: 40100368.4832\n"
     ]
    },
    {
     "data": {
      "text/plain": [
       "<keras.callbacks.History at 0x7fc5e80b4630>"
      ]
     },
     "execution_count": 11,
     "metadata": {},
     "output_type": "execute_result"
    }
   ],
   "source": [
    "model.fit(X, y, validation_split=0.2, epochs=50)"
   ]
  },
  {
   "cell_type": "code",
   "execution_count": 12,
   "metadata": {
    "ExecuteTime": {
     "end_time": "2018-05-01T16:16:24.056838Z",
     "start_time": "2018-05-01T16:16:24.040559Z"
    }
   },
   "outputs": [
    {
     "data": {
      "text/plain": [
       "array([[1629.992]], dtype=float32)"
      ]
     },
     "execution_count": 12,
     "metadata": {},
     "output_type": "execute_result"
    }
   ],
   "source": [
    "model.predict(keras.preprocessing.sequence.pad_sequences(tokenizer.texts_to_sequences(['^1+2$']), padding='post', maxlen=X.shape[1]))"
   ]
  },
  {
   "cell_type": "code",
   "execution_count": null,
   "metadata": {},
   "outputs": [],
   "source": []
  }
 ],
 "metadata": {
  "kernelspec": {
   "display_name": "Python 3",
   "language": "python",
   "name": "python3"
  },
  "language_info": {
   "codemirror_mode": {
    "name": "ipython",
    "version": 3
   },
   "file_extension": ".py",
   "mimetype": "text/x-python",
   "name": "python",
   "nbconvert_exporter": "python",
   "pygments_lexer": "ipython3",
   "version": "3.6.3"
  }
 },
 "nbformat": 4,
 "nbformat_minor": 2
}
